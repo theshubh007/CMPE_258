{
  "nbformat": 4,
  "nbformat_minor": 0,
  "metadata": {
    "colab": {
      "provenance": []
    },
    "kernelspec": {
      "name": "python3",
      "display_name": "Python 3"
    },
    "language_info": {
      "name": "python"
    }
  },
  "cells": [
    {
      "cell_type": "code",
      "source": [
        "!pip install tensorflow"
      ],
      "metadata": {
        "colab": {
          "base_uri": "https://localhost:8080/"
        },
        "id": "S67gPtpXqxYT",
        "outputId": "65748450-fa7d-4949-99d1-104c41249880"
      },
      "execution_count": 22,
      "outputs": [
        {
          "output_type": "stream",
          "name": "stdout",
          "text": [
            "Requirement already satisfied: tensorflow in /usr/local/lib/python3.11/dist-packages (2.18.0)\n",
            "Requirement already satisfied: absl-py>=1.0.0 in /usr/local/lib/python3.11/dist-packages (from tensorflow) (1.4.0)\n",
            "Requirement already satisfied: astunparse>=1.6.0 in /usr/local/lib/python3.11/dist-packages (from tensorflow) (1.6.3)\n",
            "Requirement already satisfied: flatbuffers>=24.3.25 in /usr/local/lib/python3.11/dist-packages (from tensorflow) (25.2.10)\n",
            "Requirement already satisfied: gast!=0.5.0,!=0.5.1,!=0.5.2,>=0.2.1 in /usr/local/lib/python3.11/dist-packages (from tensorflow) (0.6.0)\n",
            "Requirement already satisfied: google-pasta>=0.1.1 in /usr/local/lib/python3.11/dist-packages (from tensorflow) (0.2.0)\n",
            "Requirement already satisfied: libclang>=13.0.0 in /usr/local/lib/python3.11/dist-packages (from tensorflow) (18.1.1)\n",
            "Requirement already satisfied: opt-einsum>=2.3.2 in /usr/local/lib/python3.11/dist-packages (from tensorflow) (3.4.0)\n",
            "Requirement already satisfied: packaging in /usr/local/lib/python3.11/dist-packages (from tensorflow) (24.2)\n",
            "Requirement already satisfied: protobuf!=4.21.0,!=4.21.1,!=4.21.2,!=4.21.3,!=4.21.4,!=4.21.5,<6.0.0dev,>=3.20.3 in /usr/local/lib/python3.11/dist-packages (from tensorflow) (5.29.4)\n",
            "Requirement already satisfied: requests<3,>=2.21.0 in /usr/local/lib/python3.11/dist-packages (from tensorflow) (2.32.3)\n",
            "Requirement already satisfied: setuptools in /usr/local/lib/python3.11/dist-packages (from tensorflow) (75.2.0)\n",
            "Requirement already satisfied: six>=1.12.0 in /usr/local/lib/python3.11/dist-packages (from tensorflow) (1.17.0)\n",
            "Requirement already satisfied: termcolor>=1.1.0 in /usr/local/lib/python3.11/dist-packages (from tensorflow) (3.0.1)\n",
            "Requirement already satisfied: typing-extensions>=3.6.6 in /usr/local/lib/python3.11/dist-packages (from tensorflow) (4.13.1)\n",
            "Requirement already satisfied: wrapt>=1.11.0 in /usr/local/lib/python3.11/dist-packages (from tensorflow) (1.17.2)\n",
            "Requirement already satisfied: grpcio<2.0,>=1.24.3 in /usr/local/lib/python3.11/dist-packages (from tensorflow) (1.71.0)\n",
            "Requirement already satisfied: tensorboard<2.19,>=2.18 in /usr/local/lib/python3.11/dist-packages (from tensorflow) (2.18.0)\n",
            "Requirement already satisfied: keras>=3.5.0 in /usr/local/lib/python3.11/dist-packages (from tensorflow) (3.8.0)\n",
            "Requirement already satisfied: numpy<2.1.0,>=1.26.0 in /usr/local/lib/python3.11/dist-packages (from tensorflow) (2.0.2)\n",
            "Requirement already satisfied: h5py>=3.11.0 in /usr/local/lib/python3.11/dist-packages (from tensorflow) (3.13.0)\n",
            "Requirement already satisfied: ml-dtypes<0.5.0,>=0.4.0 in /usr/local/lib/python3.11/dist-packages (from tensorflow) (0.4.1)\n",
            "Requirement already satisfied: tensorflow-io-gcs-filesystem>=0.23.1 in /usr/local/lib/python3.11/dist-packages (from tensorflow) (0.37.1)\n",
            "Requirement already satisfied: wheel<1.0,>=0.23.0 in /usr/local/lib/python3.11/dist-packages (from astunparse>=1.6.0->tensorflow) (0.45.1)\n",
            "Requirement already satisfied: rich in /usr/local/lib/python3.11/dist-packages (from keras>=3.5.0->tensorflow) (13.9.4)\n",
            "Requirement already satisfied: namex in /usr/local/lib/python3.11/dist-packages (from keras>=3.5.0->tensorflow) (0.0.8)\n",
            "Requirement already satisfied: optree in /usr/local/lib/python3.11/dist-packages (from keras>=3.5.0->tensorflow) (0.14.1)\n",
            "Requirement already satisfied: charset-normalizer<4,>=2 in /usr/local/lib/python3.11/dist-packages (from requests<3,>=2.21.0->tensorflow) (3.4.1)\n",
            "Requirement already satisfied: idna<4,>=2.5 in /usr/local/lib/python3.11/dist-packages (from requests<3,>=2.21.0->tensorflow) (3.10)\n",
            "Requirement already satisfied: urllib3<3,>=1.21.1 in /usr/local/lib/python3.11/dist-packages (from requests<3,>=2.21.0->tensorflow) (2.3.0)\n",
            "Requirement already satisfied: certifi>=2017.4.17 in /usr/local/lib/python3.11/dist-packages (from requests<3,>=2.21.0->tensorflow) (2025.1.31)\n",
            "Requirement already satisfied: markdown>=2.6.8 in /usr/local/lib/python3.11/dist-packages (from tensorboard<2.19,>=2.18->tensorflow) (3.7)\n",
            "Requirement already satisfied: tensorboard-data-server<0.8.0,>=0.7.0 in /usr/local/lib/python3.11/dist-packages (from tensorboard<2.19,>=2.18->tensorflow) (0.7.2)\n",
            "Requirement already satisfied: werkzeug>=1.0.1 in /usr/local/lib/python3.11/dist-packages (from tensorboard<2.19,>=2.18->tensorflow) (3.1.3)\n",
            "Requirement already satisfied: MarkupSafe>=2.1.1 in /usr/local/lib/python3.11/dist-packages (from werkzeug>=1.0.1->tensorboard<2.19,>=2.18->tensorflow) (3.0.2)\n",
            "Requirement already satisfied: markdown-it-py>=2.2.0 in /usr/local/lib/python3.11/dist-packages (from rich->keras>=3.5.0->tensorflow) (3.0.0)\n",
            "Requirement already satisfied: pygments<3.0.0,>=2.13.0 in /usr/local/lib/python3.11/dist-packages (from rich->keras>=3.5.0->tensorflow) (2.18.0)\n",
            "Requirement already satisfied: mdurl~=0.1 in /usr/local/lib/python3.11/dist-packages (from markdown-it-py>=2.2.0->rich->keras>=3.5.0->tensorflow) (0.1.2)\n"
          ]
        }
      ]
    },
    {
      "cell_type": "markdown",
      "source": [
        "### Import required libraries  \n",
        "We start by importing TensorFlow, NumPy, and Matplotlib for tensor operations and visualizations.\n"
      ],
      "metadata": {
        "id": "NT2Nrv8zrrSa"
      }
    },
    {
      "cell_type": "code",
      "source": [
        "import tensorflow as tf\n",
        "import numpy as np\n",
        "import matplotlib.pyplot as plt"
      ],
      "metadata": {
        "id": "OmZYQnRKNFzP"
      },
      "execution_count": 75,
      "outputs": []
    },
    {
      "cell_type": "markdown",
      "source": [
        "### Create tensors of different ranks  \n",
        "Demonstrates the creation of scalar (0D), vector (1D), matrix (2D), and a 3D tensor using TensorFlow's `tf.constant`.\n"
      ],
      "metadata": {
        "id": "13Nlqk5or34L"
      }
    },
    {
      "cell_type": "code",
      "source": [
        "# Create various tensors\n",
        "scalar = tf.constant(5, dtype=tf.int32)\n",
        "vector = tf.constant([1, 2, 3], dtype=tf.float32)\n",
        "matrix = tf.constant([[1, 2], [3, 4]], dtype=tf.float64)\n",
        "tensor = tf.constant(np.random.rand(3, 3, 3), dtype=tf.float32)"
      ],
      "metadata": {
        "id": "rpyULX0sNHEA"
      },
      "execution_count": 76,
      "outputs": []
    },
    {
      "cell_type": "markdown",
      "source": [
        "### Inspect tensor properties  \n",
        "We print the shape, data type, and number of dimensions (`ndim`) of a sample tensor.\n"
      ],
      "metadata": {
        "id": "0vEXRP57r7hU"
      }
    },
    {
      "cell_type": "code",
      "source": [
        "# Tensor properties\n",
        "print(\"Shape:\", tensor.shape)\n",
        "print(\"Data Type:\", tensor.dtype)\n",
        "print(\"Number of dimensions:\", tensor.ndim)"
      ],
      "metadata": {
        "colab": {
          "base_uri": "https://localhost:8080/"
        },
        "id": "NEKCUF70NI3N",
        "outputId": "5b6e84f0-99a6-4131-bd01-30759605bf37"
      },
      "execution_count": 77,
      "outputs": [
        {
          "output_type": "stream",
          "name": "stdout",
          "text": [
            "Shape: (3, 3, 3)\n",
            "Data Type: <dtype: 'float32'>\n",
            "Number of dimensions: 3\n"
          ]
        }
      ]
    },
    {
      "cell_type": "markdown",
      "source": [
        "### Type casting  \n",
        "Casts a tensor from `float32` to `float64` using `tf.cast` and prints the new data type.\n"
      ],
      "metadata": {
        "id": "PIIKLtusr9Yo"
      }
    },
    {
      "cell_type": "code",
      "source": [
        "# Casting tensor types\n",
        "float_tensor = tf.cast(vector, dtype=tf.float64)\n",
        "print(\"Casted Tensor Data Type:\", float_tensor.dtype)"
      ],
      "metadata": {
        "colab": {
          "base_uri": "https://localhost:8080/"
        },
        "id": "ZjP6XMjbNKxj",
        "outputId": "4f375271-3889-4062-9f45-3c4dbaf80435"
      },
      "execution_count": 78,
      "outputs": [
        {
          "output_type": "stream",
          "name": "stdout",
          "text": [
            "Casted Tensor Data Type: <dtype: 'float64'>\n"
          ]
        }
      ]
    },
    {
      "cell_type": "markdown",
      "source": [
        "### Visualize a random 2D tensor  \n",
        "Displays a 10x10 tensor of random values using `matplotlib.pyplot.imshow` to represent data as an image.\n"
      ],
      "metadata": {
        "id": "u7BSNXfwsFde"
      }
    },
    {
      "cell_type": "code",
      "source": [
        "# Visualizing tensors\n",
        "plt.figure(figsize=(4, 4))\n",
        "plt.imshow(np.random.rand(10, 10), cmap='viridis')\n",
        "plt.title(\"Random Tensor Visualization\")\n",
        "plt.axis('off')\n",
        "plt.show()"
      ],
      "metadata": {
        "colab": {
          "base_uri": "https://localhost:8080/",
          "height": 367
        },
        "id": "NQa3OBjENhc1",
        "outputId": "40a8659c-280b-4d81-9e8d-f4f65c208f21"
      },
      "execution_count": 79,
      "outputs": [
        {
          "output_type": "display_data",
          "data": {
            "text/plain": [
              "<Figure size 400x400 with 1 Axes>"
            ],
            "image/png": "[encoded data removed]"
          },
          "metadata": {}
        }
      ]
    },
    {
      "cell_type": "markdown",
      "source": [
        "### Visualize matrix multiplication  \n",
        "Performs and visualizes matrix multiplication of two randomly initialized 5x5 matrices.\n"
      ],
      "metadata": {
        "id": "AGlytmbpsHaj"
      }
    },
    {
      "cell_type": "code",
      "source": [
        "# Matrix multiplication visualization\n",
        "A = np.random.rand(4,6)\n",
        "B = np.random.rand(6,3)\n",
        "result = np.matmul(A, B)\n",
        "plt.figure(figsize=(6, 3))\n",
        "plt.subplot(1, 3, 1)\n",
        "plt.imshow(A, cmap='Blues')\n",
        "plt.title(\"Matrix A\")\n",
        "plt.axis('off')\n",
        "plt.subplot(1, 3, 2)\n",
        "plt.imshow(B, cmap='Greens')\n",
        "plt.title(\"Matrix B\")\n",
        "plt.axis('off')\n",
        "plt.subplot(1, 3, 3)\n",
        "plt.imshow(result, cmap='Purples')\n",
        "plt.title(\"Result (A x B)\")\n",
        "plt.axis('off')\n",
        "plt.show()"
      ],
      "metadata": {
        "colab": {
          "base_uri": "https://localhost:8080/",
          "height": 290
        },
        "id": "c6ZNGlWcNjRu",
        "outputId": "a49bd293-c695-48da-d609-4025410aaf74"
      },
      "execution_count": 80,
      "outputs": [
        {
          "output_type": "display_data",
          "data": {
            "text/plain": [
              "<Figure size 600x300 with 3 Axes>"
            ],
            "image/png": "[encoded data removed]"
          },
          "metadata": {}
        }
      ]
    },
    {
      "cell_type": "markdown",
      "source": [
        "### Perform basic element-wise operations  \n",
        "Demonstrates TensorFlow's `tf.add`, `tf.subtract`, `tf.multiply`, and `tf.divide` on a 1D tensor (vector) with broadcasting.\n"
      ],
      "metadata": {
        "id": "c5_PuqZ0sJr5"
      }
    },
    {
      "cell_type": "code",
      "source": [
        "# Basic operations\n",
        "add = tf.add(vector, 10)\n",
        "sub = tf.subtract(vector, 2)\n",
        "mul = tf.multiply(vector, 3)\n",
        "div = tf.divide(vector, 2)\n",
        "\n",
        "print(\"Addition:\", add.numpy())\n",
        "print(\"Subtraction:\", sub.numpy())\n",
        "print(\"Multiplication:\", mul.numpy())\n",
        "print(\"Division:\", div.numpy())"
      ],
      "metadata": {
        "colab": {
          "base_uri": "https://localhost:8080/"
        },
        "id": "yj3_Tx60NlKP",
        "outputId": "5f077572-e3dc-4f0a-efe5-c5cf51532924"
      },
      "execution_count": 81,
      "outputs": [
        {
          "output_type": "stream",
          "name": "stdout",
          "text": [
            "Addition: [11. 12. 13.]\n",
            "Subtraction: [-1.  0.  1.]\n",
            "Multiplication: [3. 6. 9.]\n",
            "Division: [0.5 1.  1.5]\n"
          ]
        }
      ]
    },
    {
      "cell_type": "markdown",
      "source": [
        "### Visualize einsum matrix multiplication using NumPy  \n",
        "Uses NumPy’s `einsum` function for matrix multiplication and visualizes the result using a heatmap.\n"
      ],
      "metadata": {
        "id": "x6cJCETWsLgG"
      }
    },
    {
      "cell_type": "code",
      "source": [
        "x = np.array([[1, 2], [3, 4]])\n",
        "y = np.array([[5, 6], [7, 8]])\n",
        "einsum_matrix_multiplication = np.einsum('ij,jk->ik', x, y)\n",
        "plt.figure(figsize=(5, 5))\n",
        "plt.imshow(einsum_matrix_multiplication, cmap='magma')\n",
        "plt.title(\"Einsum Matrix Multiplication\")\n",
        "plt.axis('off')\n",
        "plt.show()"
      ],
      "metadata": {
        "colab": {
          "base_uri": "https://localhost:8080/",
          "height": 444
        },
        "id": "uSShErkVNua0",
        "outputId": "04f17da4-2340-4a8c-a300-3231c0514cdb"
      },
      "execution_count": 82,
      "outputs": [
        {
          "output_type": "display_data",
          "data": {
            "text/plain": [
              "<Figure size 500x500 with 1 Axes>"
            ],
            "image/png": "[encoded data removed]"
          },
          "metadata": {}
        }
      ]
    },
    {
      "cell_type": "markdown",
      "source": [
        "### Einsum operations using TensorFlow  \n",
        "Performs various operations with `tf.einsum`: summation, element-wise multiplication, and outer product.\n"
      ],
      "metadata": {
        "id": "CF8H8TEwsNi3"
      }
    },
    {
      "cell_type": "code",
      "source": [
        "# Einsum operations\n",
        "A = tf.constant([[1, 2], [3, 4]], dtype=tf.float32)\n",
        "B = tf.constant([[5, 6], [7, 8]], dtype=tf.float32)\n",
        "einsum_sum = tf.einsum('ij->', A)\n",
        "einsum_elementwise = tf.einsum('ij,ij->ij', A, B)\n",
        "einsum_outer = tf.einsum('i,j->ij', vector, vector)\n",
        "\n",
        "print(\"Einsum Summation:\", einsum_sum.numpy())\n",
        "print(\"Einsum Element-wise Multiplication:\\n\", einsum_elementwise.numpy())\n",
        "print(\"Einsum Outer Product:\\n\", einsum_outer.numpy())"
      ],
      "metadata": {
        "colab": {
          "base_uri": "https://localhost:8080/"
        },
        "id": "ZdZRGtSwNxuZ",
        "outputId": "1e0deefa-6c87-4f16-ace1-7e67e435ec64"
      },
      "execution_count": 83,
      "outputs": [
        {
          "output_type": "stream",
          "name": "stdout",
          "text": [
            "Einsum Summation: 10.0\n",
            "Einsum Element-wise Multiplication:\n",
            " [[ 5. 12.]\n",
            " [21. 32.]]\n",
            "Einsum Outer Product:\n",
            " [[1. 2. 3.]\n",
            " [2. 4. 6.]\n",
            " [3. 6. 9.]]\n"
          ]
        }
      ]
    },
    {
      "cell_type": "markdown",
      "source": [
        "### Advanced tensor operations  \n",
        "Covers reshaping, slicing, concatenation, stacking, identity matrix creation, diagonal matrix, trace, norm, rank, and eigenvalue/vector calculation.\n"
      ],
      "metadata": {
        "id": "cVTO0D-IsQSO"
      }
    },
    {
      "cell_type": "code",
      "source": [
        "\n",
        "reshaped_tensor = tf.reshape(tensor, [9, 3])\n",
        "sliced_tensor = tensor[:, :2, :]\n",
        "concatenated_tensor = tf.concat([matrix, matrix], axis=0)\n",
        "stacked_tensor = tf.stack([matrix, matrix], axis=0)\n",
        "\n",
        "eye_matrix = tf.eye(3)\n",
        "diag_matrix = tf.linalg.diag([1, 2, 3])\n",
        "trace_val = tf.linalg.trace(matrix)\n",
        "\n",
        "tensor_norm = tf.norm(matrix)\n",
        "rank_tensor = tf.rank(matrix)\n",
        "\n",
        "eigenvalues, eigenvectors = tf.linalg.eigh(tf.constant([[6., 2.], [2., 3.]]))\n",
        "\n",
        "print(\"Reshaped Tensor Shape:\", reshaped_tensor.shape)\n",
        "print(\"Sliced Tensor Shape:\", sliced_tensor.shape)\n",
        "print(\"Concatenated Tensor Shape:\", concatenated_tensor.shape)\n",
        "print(\"Stacked Tensor Shape:\", stacked_tensor.shape)\n",
        "print(\"Identity Matrix:\\n\", eye_matrix.numpy())\n",
        "print(\"Diagonal Matrix:\\n\", diag_matrix.numpy())\n",
        "print(\"Trace of Matrix:\", trace_val.numpy())\n",
        "print(\"Tensor Norm:\", tensor_norm.numpy())\n",
        "print(\"Tensor Rank:\", rank_tensor.numpy())\n",
        "print(\"Eigenvalues:\", eigenvalues.numpy())\n",
        "print(\"Eigenvectors:\\n\", eigenvectors.numpy())"
      ],
      "metadata": {
        "colab": {
          "base_uri": "https://localhost:8080/"
        },
        "id": "_Utl7ofmNzoc",
        "outputId": "28670dbd-52af-4091-f72e-3d7e4c8b09d5"
      },
      "execution_count": 84,
      "outputs": [
        {
          "output_type": "stream",
          "name": "stdout",
          "text": [
            "Reshaped Tensor Shape: (9, 3)\n",
            "Sliced Tensor Shape: (3, 2, 3)\n",
            "Concatenated Tensor Shape: (4, 2)\n",
            "Stacked Tensor Shape: (2, 2, 2)\n",
            "Identity Matrix:\n",
            " [[1. 0. 0.]\n",
            " [0. 1. 0.]\n",
            " [0. 0. 1.]]\n",
            "Diagonal Matrix:\n",
            " [[1 0 0]\n",
            " [0 2 0]\n",
            " [0 0 3]]\n",
            "Trace of Matrix: 5.0\n",
            "Tensor Norm: 5.477225575051661\n",
            "Tensor Rank: 2\n",
            "Eigenvalues: [1.9999999 7.       ]\n",
            "Eigenvectors:\n",
            " [[-0.4472136  0.8944272]\n",
            " [ 0.8944272  0.4472136]]\n"
          ]
        }
      ]
    },
    {
      "cell_type": "markdown",
      "source": [
        "### Tensor broadcasting example  \n",
        "Shows how broadcasting works in TensorFlow by adding tensors of shape (3,) and (3,1).\n"
      ],
      "metadata": {
        "id": "ueiz-zJisX3j"
      }
    },
    {
      "cell_type": "code",
      "source": [
        "a = tf.constant([1, 2, 3])\n",
        "b = tf.constant([[1], [2], [3]])\n",
        "broadcast_result = a + b\n",
        "print(\"Broadcasting Result:\\n\", broadcast_result.numpy())"
      ],
      "metadata": {
        "colab": {
          "base_uri": "https://localhost:8080/"
        },
        "id": "VsAhV81gN1RK",
        "outputId": "b3c35642-bb23-4178-cd18-d845c805348f"
      },
      "execution_count": 85,
      "outputs": [
        {
          "output_type": "stream",
          "name": "stdout",
          "text": [
            "Broadcasting Result:\n",
            " [[2 3 4]\n",
            " [3 4 5]\n",
            " [4 5 6]]\n"
          ]
        }
      ]
    },
    {
      "cell_type": "code",
      "source": [
        "plt.figure(figsize=(4, 4))\n",
        "plt.imshow(broadcast_result.numpy(), cmap='coolwarm')\n",
        "plt.title(\"Broadcasting Example\")\n",
        "plt.axis('off')\n",
        "plt.show()"
      ],
      "metadata": {
        "colab": {
          "base_uri": "https://localhost:8080/",
          "height": 367
        },
        "id": "hoCX5wd-N23u",
        "outputId": "8f2e3e39-672f-405a-a50d-7e192a0d0186"
      },
      "execution_count": 86,
      "outputs": [
        {
          "output_type": "display_data",
          "data": {
            "text/plain": [
              "<Figure size 400x400 with 1 Axes>"
            ],
            "image/png": "[encoded data removed]"
          },
          "metadata": {}
        }
      ]
    },
    {
      "cell_type": "markdown",
      "source": [
        "### Gradient computation  \n",
        "Uses `tf.GradientTape` to compute the gradient of a simple quadratic function with respect to a scalar variable.\n"
      ],
      "metadata": {
        "id": "ImCb2qxAsbCu"
      }
    },
    {
      "cell_type": "code",
      "source": [
        "x = tf.Variable(3.0)\n",
        "with tf.GradientTape() as tape:\n",
        "    y = x ** 6 + 5 * x + 2\n",
        "\n",
        "gradient = tape.gradient(y, x)\n",
        "print(\"Gradient dy/dx:\", gradient.numpy())"
      ],
      "metadata": {
        "colab": {
          "base_uri": "https://localhost:8080/"
        },
        "id": "SlpkVy6zN4Zk",
        "outputId": "1c516a4e-1664-441a-e261-1b34204b8634"
      },
      "execution_count": 87,
      "outputs": [
        {
          "output_type": "stream",
          "name": "stdout",
          "text": [
            "Gradient dy/dx: 1463.0\n"
          ]
        }
      ]
    }
  ]
}