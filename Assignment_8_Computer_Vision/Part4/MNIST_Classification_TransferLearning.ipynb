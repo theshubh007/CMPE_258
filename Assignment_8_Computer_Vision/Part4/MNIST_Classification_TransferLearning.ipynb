{
  "nbformat": 4,
  "nbformat_minor": 0,
  "metadata": {
    "colab": {
      "provenance": [],
      "gpuType": "T4"
    },
    "kernelspec": {
      "name": "python3",
      "display_name": "Python 3"
    },
    "language_info": {
      "name": "python"
    },
    "accelerator": "GPU"
  },
  "cells": [
    {
      "cell_type": "markdown",
      "source": [
        "# MNIST Classification with Transfer Learning Models\n",
        "\n",
        "This Colab notebook explores the task of classifying handwritten digits from the MNIST dataset. We'll leverage various deep learning approaches, including transfer learning from established models like EfficientNet and a ResNet-based approach inspired by BiT, as well as a simplified implementation of the ConvNeXt architecture. Our goal is to evaluate and compare the performance of these models on this classic image classification problem."
      ],
      "metadata": {
        "id": "0NUsoiW4Eu7T"
      }
    },
    {
      "cell_type": "markdown",
      "source": [
        "## Setup and Data Loading\n"
      ],
      "metadata": {
        "id": "qjx-4-bIEwk9"
      }
    },
    {
      "cell_type": "code",
      "source": [
        "# Import necessary libraries\n",
        "import tensorflow as tf\n",
        "from tensorflow import keras\n",
        "from tensorflow.keras import layers\n",
        "import tensorflow_hub as hub\n",
        "import numpy as np\n",
        "import matplotlib.pyplot as plt\n",
        "import time\n",
        "\n",
        "# Set random seed for reproducibility\n",
        "tf.random.set_seed(42)\n",
        "\n",
        "# Load MNIST dataset\n",
        "(x_train, y_train), (x_test, y_test) = keras.datasets.mnist.load_data()\n",
        "\n",
        "# Normalize data to [0,1]\n",
        "x_train = x_train.astype(\"float32\") / 255.0\n",
        "x_test = x_test.astype(\"float32\") / 255.0\n",
        "\n",
        "# Convert labels to one-hot encoding\n",
        "y_train = keras.utils.to_categorical(y_train, 10)\n",
        "y_test = keras.utils.to_categorical(y_test, 10)\n",
        "\n",
        "# For memory efficiency, we'll use a smaller subset for transfer learning\n",
        "SAMPLE_SIZE = 5000\n",
        "indices = np.random.choice(len(x_train), SAMPLE_SIZE, replace=False)\n",
        "x_train_sample = x_train[indices]\n",
        "y_train_sample = y_train[indices]\n",
        "\n",
        "test_indices = np.random.choice(len(x_test), 1000, replace=False)\n",
        "x_test_sample = x_test[test_indices]\n",
        "y_test_sample = y_test[test_indices]\n",
        "\n",
        "# We'll use a data generator to resize images on-the-fly\n",
        "INPUT_SHAPE = (28, 28, 1)\n",
        "print(f\"Original data shape: {INPUT_SHAPE}\")\n",
        "print(f\"Training samples: {len(x_train_sample)}, Test samples: {len(x_test_sample)}\")"
      ],
      "metadata": {
        "colab": {
          "base_uri": "https://localhost:8080/"
        },
        "id": "zYW2A1vpEib1",
        "outputId": "f1b6d0c0-d5f3-4cda-b851-2a155e5f0357"
      },
      "execution_count": null,
      "outputs": [
        {
          "output_type": "stream",
          "name": "stdout",
          "text": [
            "Original data shape: (28, 28, 1)\n",
            "Training samples: 5000, Test samples: 1000\n"
          ]
        }
      ]
    },
    {
      "cell_type": "markdown",
      "source": [
        "## Image Preprocessing for Transfer Learning\n",
        "\n",
        "This cell defines functions to prepare MNIST images for transfer learning models that expect RGB inputs of size 224x224."
      ],
      "metadata": {
        "id": "a-F2FwWHE4S1"
      }
    },
    {
      "cell_type": "code",
      "source": [
        "def prepare_for_transfer_learning(batch_x, batch_y, img_size=224):\n",
        "    \"\"\"Convert grayscale MNIST images to RGB and resize them for transfer learning models\"\"\"\n",
        "    # Add channel dimension if needed\n",
        "    if len(batch_x.shape) == 3:\n",
        "        batch_x = np.expand_dims(batch_x, -1)\n",
        "\n",
        "    # Convert to RGB by repeating the channel 3 times\n",
        "    batch_x_rgb = np.concatenate([batch_x, batch_x, batch_x], axis=-1)\n",
        "\n",
        "    # Create a dataset and use map to resize efficiently\n",
        "    dataset = tf.data.Dataset.from_tensor_slices((batch_x_rgb, batch_y))\n",
        "    dataset = dataset.map(\n",
        "        lambda x, y: (tf.image.resize(x, [img_size, img_size]), y),\n",
        "        num_parallel_calls=tf.data.AUTOTUNE\n",
        "    )\n",
        "    dataset = dataset.batch(32).prefetch(tf.data.AUTOTUNE)\n",
        "\n",
        "    return dataset\n",
        "\n",
        "# Create transfer learning datasets\n",
        "train_ds = prepare_for_transfer_learning(x_train_sample, y_train_sample)\n",
        "test_ds = prepare_for_transfer_learning(x_test_sample, y_test_sample)\n",
        "\n",
        "# Visualize a few examples\n",
        "plt.figure(figsize=(10, 5))\n",
        "for images, labels in train_ds.take(1):\n",
        "    for i in range(5):\n",
        "        plt.subplot(1, 5, i + 1)\n",
        "        plt.imshow(images[i].numpy().astype(\"uint8\"))\n",
        "        plt.title(f\"Label: {np.argmax(labels[i])}\")\n",
        "        plt.axis(\"off\")\n",
        "plt.tight_layout()\n",
        "plt.show()"
      ],
      "metadata": {
        "colab": {
          "base_uri": "https://localhost:8080/",
          "height": 241
        },
        "id": "aRfoG1-4Exw8",
        "outputId": "4f62445d-3a8b-444b-8ec2-9caad956eb32"
      },
      "execution_count": null,
      "outputs": [
        {
          "output_type": "display_data",
          "data": {
            "text/plain": [
              "<Figure size 1000x500 with 5 Axes>"
            ],
            "image/png": "[encoded data removed]"
          },
          "metadata": {}
        }
      ]
    },
    {
      "cell_type": "markdown",
      "source": [
        "## EfficientNet Transfer Learning Model\n",
        "\n",
        "This implementation uses Keras's built-in EfficientNetB0 model for transfer learning on the MNIST dataset."
      ],
      "metadata": {
        "id": "XoSN_r33FVtG"
      }
    },
    {
      "cell_type": "code",
      "source": [
        "# Let's use Keras's built-in EfficientNet implementation instead of TF Hub\n",
        "from tensorflow.keras.applications import EfficientNetB0\n",
        "from tensorflow.keras.applications.efficientnet import preprocess_input\n",
        "\n",
        "def build_efficientnet_model(input_shape=(224, 224, 3), num_classes=10):\n",
        "    # Load pre-trained EfficientNetB0 without top layers\n",
        "    base_model = EfficientNetB0(\n",
        "        weights='imagenet',\n",
        "        include_top=False,\n",
        "        input_shape=input_shape,\n",
        "        pooling='avg'\n",
        "    )\n",
        "\n",
        "    # Freeze the base model\n",
        "    base_model.trainable = False\n",
        "\n",
        "    # Create the new model\n",
        "    inputs = keras.Input(shape=input_shape)\n",
        "    # Preprocess inputs\n",
        "    x = preprocess_input(inputs)\n",
        "    # Base model\n",
        "    x = base_model(x, training=False)\n",
        "    # Add new classifier layers\n",
        "    x = layers.Dense(256, activation='relu')(x)\n",
        "    x = layers.Dropout(0.2)(x)\n",
        "    outputs = layers.Dense(num_classes, activation='softmax')(x)\n",
        "\n",
        "    model = keras.Model(inputs, outputs)\n",
        "\n",
        "    # Compile the model\n",
        "    model.compile(\n",
        "        optimizer=keras.optimizers.Adam(learning_rate=1e-4),\n",
        "        loss='categorical_crossentropy',\n",
        "        metrics=['accuracy']\n",
        "    )\n",
        "\n",
        "    return model\n",
        "\n",
        "# Create the EfficientNet model\n",
        "efficientnet_model = build_efficientnet_model()\n",
        "print(\"Model created successfully\")\n",
        "\n",
        "# We'll need to update our dataset to match the model's preprocessing\n",
        "def prepare_batch(images, labels):\n",
        "    # Convert images to float32 if they're not already\n",
        "    images = tf.cast(images, tf.float32)\n",
        "    return images, labels\n",
        "\n",
        "# Update our datasets with the preprocessing step\n",
        "train_ds = train_ds.map(prepare_batch)\n",
        "test_ds = test_ds.map(prepare_batch)\n",
        "\n",
        "# Train for just a few epochs for demonstration\n",
        "print(\"Starting training...\")\n",
        "history = efficientnet_model.fit(\n",
        "    train_ds,\n",
        "    validation_data=test_ds,\n",
        "    epochs=3,\n",
        "    verbose=1\n",
        ")\n",
        "\n",
        "# Evaluate the model\n",
        "efficientnet_results = efficientnet_model.evaluate(test_ds)\n",
        "print(f\"EfficientNet Test Loss: {efficientnet_results[0]:.4f}\")\n",
        "print(f\"EfficientNet Test Accuracy: {efficientnet_results[1]:.4f}\")"
      ],
      "metadata": {
        "colab": {
          "base_uri": "https://localhost:8080/"
        },
        "id": "EX5eq5rgE5_v",
        "outputId": "6f052b27-454b-4632-ef97-266e046cc3a8"
      },
      "execution_count": null,
      "outputs": [
        {
          "output_type": "stream",
          "name": "stdout",
          "text": [
            "Downloading data from https://storage.googleapis.com/keras-applications/efficientnetb0_notop.h5\n",
            "\u001b[1m16705208/16705208\u001b[0m \u001b[32m━━━━━━━━━━━━━━━━━━━━\u001b[0m\u001b[37m\u001b[0m \u001b[1m1s\u001b[0m 0us/step\n",
            "Model created successfully\n",
            "Starting training...\n",
            "Epoch 1/3\n",
            "\u001b[1m157/157\u001b[0m \u001b[32m━━━━━━━━━━━━━━━━━━━━\u001b[0m\u001b[37m\u001b[0m \u001b[1m53s\u001b[0m 174ms/step - accuracy: 0.1036 - loss: 2.3195 - val_accuracy: 0.1110 - val_loss: 2.3123\n",
            "Epoch 2/3\n",
            "\u001b[1m157/157\u001b[0m \u001b[32m━━━━━━━━━━━━━━━━━━━━\u001b[0m\u001b[37m\u001b[0m \u001b[1m7s\u001b[0m 41ms/step - accuracy: 0.1051 - loss: 2.3127 - val_accuracy: 0.1000 - val_loss: 2.3088\n",
            "Epoch 3/3\n",
            "\u001b[1m157/157\u001b[0m \u001b[32m━━━━━━━━━━━━━━━━━━━━\u001b[0m\u001b[37m\u001b[0m \u001b[1m6s\u001b[0m 38ms/step - accuracy: 0.1160 - loss: 2.3065 - val_accuracy: 0.1000 - val_loss: 2.3058\n",
            "\u001b[1m32/32\u001b[0m \u001b[32m━━━━━━━━━━━━━━━━━━━━\u001b[0m\u001b[37m\u001b[0m \u001b[1m1s\u001b[0m 35ms/step - accuracy: 0.1030 - loss: 2.3034\n",
            "EfficientNet Test Loss: 2.3058\n",
            "EfficientNet Test Accuracy: 0.1000\n"
          ]
        }
      ]
    },
    {
      "cell_type": "markdown",
      "source": [
        "## BiT (Big Transfer) Model Implementation\n",
        "\n",
        "This cell implements Google's BiT (Big Transfer) model for MNIST classification as a second transfer learning approach."
      ],
      "metadata": {
        "id": "0nzXmAnOGYrD"
      }
    },
    {
      "cell_type": "code",
      "source": [
        "# Implement BiT (Big Transfer) for comparison\n",
        "def build_bit_model(input_shape=(224, 224, 3), num_classes=10):\n",
        "    # Load a pre-trained ResNet50 as a substitute for BiT\n",
        "    # (Since full BiT models are large and may cause memory issues)\n",
        "    base_model = tf.keras.applications.ResNet50V2(\n",
        "        weights='imagenet',\n",
        "        include_top=False,\n",
        "        input_shape=input_shape,\n",
        "        pooling='avg'\n",
        "    )\n",
        "\n",
        "    # Freeze the base model\n",
        "    base_model.trainable = False\n",
        "\n",
        "    # Create a new model\n",
        "    inputs = keras.Input(shape=input_shape)\n",
        "    x = base_model(inputs, training=False)\n",
        "    x = layers.Dense(512, activation='relu')(x)\n",
        "    x = layers.Dropout(0.3)(x)\n",
        "    outputs = layers.Dense(num_classes, activation='softmax')(x)\n",
        "\n",
        "    model = keras.Model(inputs, outputs)\n",
        "\n",
        "    # Compile the model\n",
        "    model.compile(\n",
        "        optimizer=keras.optimizers.Adam(learning_rate=1e-4),\n",
        "        loss='categorical_crossentropy',\n",
        "        metrics=['accuracy']\n",
        "    )\n",
        "\n",
        "    return model\n",
        "\n",
        "# Create and train BiT model\n",
        "bit_model = build_bit_model()\n",
        "print(\"BiT model created successfully\")\n",
        "\n",
        "# Train for just a few epochs for demonstration\n",
        "print(\"Starting BiT model training...\")\n",
        "bit_history = bit_model.fit(\n",
        "    train_ds,\n",
        "    validation_data=test_ds,\n",
        "    epochs=3,\n",
        "    verbose=1\n",
        ")\n",
        "\n",
        "# Evaluate the model\n",
        "bit_results = bit_model.evaluate(test_ds)\n",
        "print(f\"BiT Test Loss: {bit_results[0]:.4f}\")\n",
        "print(f\"BiT Test Accuracy: {bit_results[1]:.4f}\")"
      ],
      "metadata": {
        "colab": {
          "base_uri": "https://localhost:8080/"
        },
        "id": "5T-rqR3qFW__",
        "outputId": "facf4017-c771-41b9-9bcb-e3aa3d1b65b8"
      },
      "execution_count": null,
      "outputs": [
        {
          "output_type": "stream",
          "name": "stdout",
          "text": [
            "Downloading data from https://storage.googleapis.com/tensorflow/keras-applications/resnet/resnet50v2_weights_tf_dim_ordering_tf_kernels_notop.h5\n",
            "\u001b[1m94668760/94668760\u001b[0m \u001b[32m━━━━━━━━━━━━━━━━━━━━\u001b[0m\u001b[37m\u001b[0m \u001b[1m3s\u001b[0m 0us/step\n",
            "BiT model created successfully\n",
            "Starting BiT model training...\n",
            "Epoch 1/3\n",
            "\u001b[1m157/157\u001b[0m \u001b[32m━━━━━━━━━━━━━━━━━━━━\u001b[0m\u001b[37m\u001b[0m \u001b[1m41s\u001b[0m 177ms/step - accuracy: 0.4444 - loss: 1.6692 - val_accuracy: 0.8420 - val_loss: 0.6147\n",
            "Epoch 2/3\n",
            "\u001b[1m157/157\u001b[0m \u001b[32m━━━━━━━━━━━━━━━━━━━━\u001b[0m\u001b[37m\u001b[0m \u001b[1m19s\u001b[0m 78ms/step - accuracy: 0.8490 - loss: 0.5606 - val_accuracy: 0.8960 - val_loss: 0.3929\n",
            "Epoch 3/3\n",
            "\u001b[1m157/157\u001b[0m \u001b[32m━━━━━━━━━━━━━━━━━━━━\u001b[0m\u001b[37m\u001b[0m \u001b[1m12s\u001b[0m 78ms/step - accuracy: 0.9002 - loss: 0.3587 - val_accuracy: 0.9170 - val_loss: 0.2955\n",
            "\u001b[1m32/32\u001b[0m \u001b[32m━━━━━━━━━━━━━━━━━━━━\u001b[0m\u001b[37m\u001b[0m \u001b[1m2s\u001b[0m 62ms/step - accuracy: 0.9119 - loss: 0.2983\n",
            "BiT Test Loss: 0.2955\n",
            "BiT Test Accuracy: 0.9170\n"
          ]
        }
      ]
    },
    {
      "cell_type": "markdown",
      "source": [
        "## ConvNeXt Implementation\n",
        "\n",
        "This cell implements a simplified version of ConvNeXt for MNIST classification."
      ],
      "metadata": {
        "id": "0TaJ6KqwGnzc"
      }
    },
    {
      "cell_type": "code",
      "source": [
        "# A simplified ConvNeXt-inspired implementation\n",
        "def build_convnext_model(input_shape=(224, 224, 3), num_classes=10):\n",
        "    inputs = keras.Input(shape=input_shape)\n",
        "\n",
        "    # Initial stem block\n",
        "    x = layers.Conv2D(64, kernel_size=4, strides=4, padding=\"same\")(inputs)\n",
        "    x = layers.LayerNormalization(epsilon=1e-6)(x)\n",
        "\n",
        "    # ConvNeXt blocks (simplified)\n",
        "    for filters in [128, 256, 512]:\n",
        "        # Downsample\n",
        "        prev_x = layers.Conv2D(filters, kernel_size=2, strides=2, padding=\"same\")(x)\n",
        "        prev_x = layers.LayerNormalization(epsilon=1e-6)(prev_x)\n",
        "\n",
        "        # Depthwise Conv\n",
        "        x = layers.DepthwiseConv2D(kernel_size=7, padding=\"same\")(prev_x)\n",
        "        x = layers.LayerNormalization(epsilon=1e-6)(x)\n",
        "\n",
        "        # Pointwise Conv (1x1)\n",
        "        x = layers.Conv2D(filters * 4, kernel_size=1)(x)\n",
        "        x = layers.Activation(\"gelu\")(x)\n",
        "\n",
        "        # Pointwise Conv (1x1)\n",
        "        x = layers.Conv2D(filters, kernel_size=1)(x)\n",
        "\n",
        "        # Skip connection\n",
        "        x = layers.add([x, prev_x])\n",
        "\n",
        "    # Global pooling and final classifier\n",
        "    x = layers.GlobalAveragePooling2D()(x)\n",
        "    x = layers.LayerNormalization(epsilon=1e-6)(x)\n",
        "    x = layers.Dropout(0.2)(x)\n",
        "    outputs = layers.Dense(num_classes, activation=\"softmax\")(x)\n",
        "\n",
        "    model = keras.Model(inputs=inputs, outputs=outputs)\n",
        "\n",
        "    # Compile the model\n",
        "    model.compile(\n",
        "        optimizer=keras.optimizers.Adam(1e-4),\n",
        "        loss=\"categorical_crossentropy\",\n",
        "        metrics=[\"accuracy\"],\n",
        "    )\n",
        "\n",
        "    return model\n",
        "\n",
        "# Create and train ConvNeXt model\n",
        "convnext_model = build_convnext_model()\n",
        "print(\"ConvNeXt model created successfully\")\n",
        "\n",
        "# Train for just a few epochs for demonstration\n",
        "print(\"Starting ConvNeXt model training...\")\n",
        "convnext_history = convnext_model.fit(\n",
        "    train_ds,\n",
        "    validation_data=test_ds,\n",
        "    epochs=2,\n",
        "    verbose=1\n",
        ")\n",
        "\n",
        "# Evaluate the model\n",
        "convnext_results = convnext_model.evaluate(test_ds)\n",
        "print(f\"ConvNeXt Test Loss: {convnext_results[0]:.4f}\")\n",
        "print(f\"ConvNeXt Test Accuracy: {convnext_results[1]:.4f}\")"
      ],
      "metadata": {
        "colab": {
          "base_uri": "https://localhost:8080/"
        },
        "id": "RqqTkU9rGaSr",
        "outputId": "b23f25f8-9e7e-482e-9148-09885e3ca41f"
      },
      "execution_count": null,
      "outputs": [
        {
          "output_type": "stream",
          "name": "stdout",
          "text": [
            "ConvNeXt model created successfully\n",
            "Starting ConvNeXt model training...\n",
            "Epoch 1/2\n",
            "\u001b[1m157/157\u001b[0m \u001b[32m━━━━━━━━━━━━━━━━━━━━\u001b[0m\u001b[37m\u001b[0m \u001b[1m38s\u001b[0m 133ms/step - accuracy: 0.3464 - loss: 1.9686 - val_accuracy: 0.8250 - val_loss: 0.5480\n",
            "Epoch 2/2\n",
            "\u001b[1m157/157\u001b[0m \u001b[32m━━━━━━━━━━━━━━━━━━━━\u001b[0m\u001b[37m\u001b[0m \u001b[1m19s\u001b[0m 47ms/step - accuracy: 0.8179 - loss: 0.5463 - val_accuracy: 0.8760 - val_loss: 0.3677\n",
            "\u001b[1m32/32\u001b[0m \u001b[32m━━━━━━━━━━━━━━━━━━━━\u001b[0m\u001b[37m\u001b[0m \u001b[1m1s\u001b[0m 16ms/step - accuracy: 0.8890 - loss: 0.3346\n",
            "ConvNeXt Test Loss: 0.3677\n",
            "ConvNeXt Test Accuracy: 0.8760\n"
          ]
        }
      ]
    },
    {
      "cell_type": "markdown",
      "source": [
        "## Model Comparison Visualization\n",
        "\n",
        "This cell creates visualizations to compare the performance of all the implemented models on the MNIST dataset."
      ],
      "metadata": {
        "id": "GB_6GBWQHGMf"
      }
    },
    {
      "cell_type": "code",
      "source": [
        "# Create a bar chart to compare model accuracies\n",
        "import matplotlib.pyplot as plt\n",
        "\n",
        "# Collect test accuracies\n",
        "model_names = ['EfficientNet', 'BiT', 'ConvNeXt']\n",
        "accuracies = [efficientnet_results[1], bit_results[1], convnext_results[1]]\n",
        "\n",
        "# Create the visualization\n",
        "plt.figure(figsize=(10, 6))\n",
        "plt.bar(model_names, accuracies, color=['blue', 'green', 'red'])\n",
        "plt.title('Model Comparison on MNIST Dataset')\n",
        "plt.xlabel('Model')\n",
        "plt.ylabel('Test Accuracy')\n",
        "plt.ylim(0, 1.0)\n",
        "\n",
        "# Add accuracy values on top of the bars\n",
        "for i, acc in enumerate(accuracies):\n",
        "    plt.text(i, acc + 0.01, f'{acc:.4f}', ha='center')\n",
        "\n",
        "plt.grid(axis='y', linestyle='--', alpha=0.7)\n",
        "plt.tight_layout()\n",
        "plt.show()\n",
        "\n",
        "# Let's also save the best model\n",
        "best_model_index = accuracies.index(max(accuracies))\n",
        "best_model_name = model_names[best_model_index]\n",
        "print(f\"Best performing model: {best_model_name} with accuracy: {max(accuracies):.4f}\")\n",
        "\n",
        "# Save the best model weights (commented out in this demo)\n",
        "# If running in actual colab, you could uncomment this\n",
        "# if best_model_name == 'EfficientNet':\n",
        "#     efficientnet_model.save_weights('best_model_mnist.h5')\n",
        "# elif best_model_name == 'BiT':\n",
        "#     bit_model.save_weights('best_model_mnist.h5')\n",
        "# else:\n",
        "#     convnext_model.save_weights('best_model_mnist.h5')"
      ],
      "metadata": {
        "colab": {
          "base_uri": "https://localhost:8080/",
          "height": 625
        },
        "id": "FRFQg4oZG02q",
        "outputId": "5f2a776f-07f0-47da-c18c-124eb1052473"
      },
      "execution_count": null,
      "outputs": [
        {
          "output_type": "display_data",
          "data": {
            "text/plain": [
              "<Figure size 1000x600 with 1 Axes>"
            ],
            "image/png": "[encoded data removed]"
          },
          "metadata": {}
        },
        {
          "output_type": "stream",
          "name": "stdout",
          "text": [
            "Best performing model: BiT with accuracy: 0.9170\n"
          ]
        }
      ]
    },
    {
      "cell_type": "markdown",
      "source": [
        "## Summary and Conclusion\n",
        "\n",
        "This notebook demonstrates the application of various transfer learning and state-of-the-art models for MNIST digit classification. We've implemented and compared:\n",
        "\n",
        "1. **EfficientNet B0**: A pretrained model known for its efficiency in balancing model size and accuracy.\n",
        "2. **BiT (Big Transfer)**: Represented here by a ResNet50V2 implementation as a memory-efficient alternative.\n",
        "3. **ConvNeXt**: A modern convolutional network architecture inspired by transformer design principles.\n",
        "\n"
      ],
      "metadata": {
        "id": "mAvOkwyVHfY_"
      }
    },
    {
      "cell_type": "code",
      "source": [],
      "metadata": {
        "id": "51nx4k2AHRVn"
      },
      "execution_count": null,
      "outputs": []
    }
  ]
}