{
  "nbformat": 4,
  "nbformat_minor": 0,
  "metadata": {
    "colab": {
      "provenance": []
    },
    "kernelspec": {
      "name": "python3",
      "display_name": "Python 3"
    },
    "language_info": {
      "name": "python"
    }
  },
  "cells": [
    {
      "cell_type": "markdown",
      "source": [
        "## 🧩 Task 1: Sequential Agent Workflow (LangGraph + Google Gemini)\n",
        "\n",
        "This notebook demonstrates a basic sequential workflow using **LangGraph** where each step depends on the output of the previous one.\n",
        "\n",
        "We integrate **Google Gemini** via a LangChain-compatible wrapper to simulate reasoning over multiple substeps:\n",
        "- Step 1: Generate a topic\n",
        "- Step 2: Expand it into a blog outline\n",
        "- Step 3: Turn it into a paragraph\n",
        "\n",
        "We'll also visualize the agent flow using **networkx** and show debug traces.\n"
      ],
      "metadata": {
        "id": "ZsGipLPLj1gB"
      }
    },
    {
      "cell_type": "code",
      "execution_count": 5,
      "metadata": {
        "id": "Q4wyu5fAj0jd"
      },
      "outputs": [],
      "source": [
        "# Install necessary packages\n",
        "!pip install -q langgraph langchain-google-genai networkx matplotlib\n",
        "\n"
      ]
    },
    {
      "cell_type": "code",
      "source": [
        "import os\n",
        "from google.colab import userdata\n",
        "os.environ[\"GOOGLE_API_KEY\"] = userdata.get('GOOGLE_API_KEY')\n"
      ],
      "metadata": {
        "id": "aIaM77jgkzRm"
      },
      "execution_count": 34,
      "outputs": []
    },
    {
      "cell_type": "code",
      "source": [
        "from typing import TypedDict\n",
        "from langgraph.graph import StateGraph\n",
        "from langchain_core.runnables import RunnableLambda\n",
        "from langchain_google_genai import ChatGoogleGenerativeAI\n",
        "import os\n",
        "from google.colab import userdata"
      ],
      "metadata": {
        "id": "1RMuFd2ukZvw"
      },
      "execution_count": 11,
      "outputs": []
    },
    {
      "cell_type": "code",
      "source": [
        "import google.generativeai as genai\n",
        "models = genai.list_models()\n",
        "for model in models:\n",
        "    print(model.name)"
      ],
      "metadata": {
        "colab": {
          "base_uri": "https://localhost:8080/"
        },
        "id": "LGnrcj5zl5gV",
        "outputId": "7b20c648-ad18-41c8-ea83-b628bfa8f108"
      },
      "execution_count": 14,
      "outputs": [
        {
          "output_type": "stream",
          "name": "stdout",
          "text": [
            "models/chat-bison-001\n",
            "models/text-bison-001\n",
            "models/embedding-gecko-001\n",
            "models/gemini-1.0-pro-vision-latest\n",
            "models/gemini-pro-vision\n",
            "models/gemini-1.5-pro-latest\n",
            "models/gemini-1.5-pro-001\n",
            "models/gemini-1.5-pro-002\n",
            "models/gemini-1.5-pro\n",
            "models/gemini-1.5-flash-latest\n",
            "models/gemini-1.5-flash-001\n",
            "models/gemini-1.5-flash-001-tuning\n",
            "models/gemini-1.5-flash\n",
            "models/gemini-1.5-flash-002\n",
            "models/gemini-1.5-flash-8b\n",
            "models/gemini-1.5-flash-8b-001\n",
            "models/gemini-1.5-flash-8b-latest\n",
            "models/gemini-1.5-flash-8b-exp-0827\n",
            "models/gemini-1.5-flash-8b-exp-0924\n",
            "models/gemini-2.5-pro-exp-03-25\n",
            "models/gemini-2.5-pro-preview-03-25\n",
            "models/gemini-2.0-flash-exp\n",
            "models/gemini-2.0-flash\n",
            "models/gemini-2.0-flash-001\n",
            "models/gemini-2.0-flash-exp-image-generation\n",
            "models/gemini-2.0-flash-lite-001\n",
            "models/gemini-2.0-flash-lite\n",
            "models/gemini-2.0-flash-lite-preview-02-05\n",
            "models/gemini-2.0-flash-lite-preview\n",
            "models/gemini-2.0-pro-exp\n",
            "models/gemini-2.0-pro-exp-02-05\n",
            "models/gemini-exp-1206\n",
            "models/gemini-2.0-flash-thinking-exp-01-21\n",
            "models/gemini-2.0-flash-thinking-exp\n",
            "models/gemini-2.0-flash-thinking-exp-1219\n",
            "models/learnlm-1.5-pro-experimental\n",
            "models/gemma-3-1b-it\n",
            "models/gemma-3-4b-it\n",
            "models/gemma-3-12b-it\n",
            "models/gemma-3-27b-it\n",
            "models/embedding-001\n",
            "models/text-embedding-004\n",
            "models/gemini-embedding-exp-03-07\n",
            "models/gemini-embedding-exp\n",
            "models/aqa\n",
            "models/imagen-3.0-generate-002\n",
            "models/gemini-2.0-flash-live-001\n"
          ]
        }
      ]
    },
    {
      "cell_type": "code",
      "source": [
        "# Define the state schema\n",
        "class BlogState(TypedDict):\n",
        "    topic: str\n",
        "    outline: str\n",
        "    paragraph: str\n",
        "\n",
        "# Initialize the model\n",
        "model = ChatGoogleGenerativeAI(model=\"gemini-1.5-pro\", temperature=0.5)\n",
        "\n",
        "# Define node functions\n",
        "def generate_topic(state: BlogState) -> dict:\n",
        "    response = model.invoke(\"Suggest a trending AI topic.\")\n",
        "    return {\"topic\": response.content}\n",
        "\n",
        "def expand_outline(state: BlogState) -> dict:\n",
        "    response = model.invoke(f\"Write a blog outline on: {state['topic']}\")\n",
        "    return {\"outline\": response.content}\n",
        "\n",
        "def write_paragraph(state: BlogState) -> dict:\n",
        "    response = model.invoke(f\"Write a blog paragraph based on outline: {state['outline']}\")\n",
        "    return {\"paragraph\": response.content}\n",
        "\n",
        "# Construct the LangGraph workflow with the defined state schema\n",
        "builder = StateGraph(BlogState)\n",
        "builder.add_node(\"Generate Topic\", RunnableLambda(generate_topic))\n",
        "builder.add_node(\"Expand Outline\", RunnableLambda(expand_outline))\n",
        "builder.add_node(\"Write Paragraph\", RunnableLambda(write_paragraph))\n",
        "\n",
        "builder.set_entry_point(\"Generate Topic\")\n",
        "builder.add_edge(\"Generate Topic\", \"Expand Outline\")\n",
        "builder.add_edge(\"Expand Outline\", \"Write Paragraph\")\n",
        "builder.set_finish_point(\"Write Paragraph\")\n",
        "\n",
        "graph = builder.compile()\n",
        "\n",
        "# Execute the graph\n",
        "output = graph.invoke({})\n",
        "print(\"Final Paragraph Output:\\n\", output[\"paragraph\"])"
      ],
      "metadata": {
        "colab": {
          "base_uri": "https://localhost:8080/"
        },
        "id": "2ufG-roelsY9",
        "outputId": "f91857d1-740d-4b12-99fe-cc51c39b5462"
      },
      "execution_count": 15,
      "outputs": [
        {
          "output_type": "stream",
          "name": "stdout",
          "text": [
            "Final Paragraph Output:\n",
            " The generative AI revolution is upon us, transforming the way we create and consume content.  This cutting-edge technology, which generates new content from existing data, is rapidly evolving, buzzing with advancements in text, image, video, and audio generation. From crafting compelling marketing copy to producing stunning visuals and even composing original music, generative AI is reshaping content creation across industries, presenting both exciting opportunities and significant challenges that we must address.  This transformative technology promises increased efficiency and personalized experiences, but also raises concerns about plagiarism, bias, and the potential displacement of human creativity.  Join us as we explore the fascinating world of generative AI and its impact on the future of content.\n"
          ]
        }
      ]
    },
    {
      "cell_type": "markdown",
      "source": [
        "## 📊 Visualization: Sequential Workflow Graph\n",
        "\n",
        "Below is a visual representation of the sequential agent path using `networkx`. Each node corresponds to a single task in the agent pipeline.\n"
      ],
      "metadata": {
        "id": "9ugS3l0ukc-_"
      }
    },
    {
      "cell_type": "code",
      "source": [
        "!pip install networkx matplotlib\n"
      ],
      "metadata": {
        "colab": {
          "base_uri": "https://localhost:8080/"
        },
        "id": "N6H-nVkmmTrW",
        "outputId": "4db2d3e6-2474-40cb-97df-f03d1337370f"
      },
      "execution_count": 16,
      "outputs": [
        {
          "output_type": "stream",
          "name": "stdout",
          "text": [
            "Requirement already satisfied: networkx in /usr/local/lib/python3.11/dist-packages (3.4.2)\n",
            "Requirement already satisfied: matplotlib in /usr/local/lib/python3.11/dist-packages (3.10.0)\n",
            "Requirement already satisfied: contourpy>=1.0.1 in /usr/local/lib/python3.11/dist-packages (from matplotlib) (1.3.1)\n",
            "Requirement already satisfied: cycler>=0.10 in /usr/local/lib/python3.11/dist-packages (from matplotlib) (0.12.1)\n",
            "Requirement already satisfied: fonttools>=4.22.0 in /usr/local/lib/python3.11/dist-packages (from matplotlib) (4.57.0)\n",
            "Requirement already satisfied: kiwisolver>=1.3.1 in /usr/local/lib/python3.11/dist-packages (from matplotlib) (1.4.8)\n",
            "Requirement already satisfied: numpy>=1.23 in /usr/local/lib/python3.11/dist-packages (from matplotlib) (2.0.2)\n",
            "Requirement already satisfied: packaging>=20.0 in /usr/local/lib/python3.11/dist-packages (from matplotlib) (24.2)\n",
            "Requirement already satisfied: pillow>=8 in /usr/local/lib/python3.11/dist-packages (from matplotlib) (11.1.0)\n",
            "Requirement already satisfied: pyparsing>=2.3.1 in /usr/local/lib/python3.11/dist-packages (from matplotlib) (3.2.3)\n",
            "Requirement already satisfied: python-dateutil>=2.7 in /usr/local/lib/python3.11/dist-packages (from matplotlib) (2.8.2)\n",
            "Requirement already satisfied: six>=1.5 in /usr/local/lib/python3.11/dist-packages (from python-dateutil>=2.7->matplotlib) (1.17.0)\n"
          ]
        }
      ]
    },
    {
      "cell_type": "code",
      "source": [
        "import networkx as nx\n",
        "import matplotlib.pyplot as plt\n"
      ],
      "metadata": {
        "id": "IRytsBPkmVQL"
      },
      "execution_count": 17,
      "outputs": []
    },
    {
      "cell_type": "code",
      "source": [
        "# Create a directed graph\n",
        "G = nx.DiGraph()\n",
        "\n",
        "# Add nodes\n",
        "G.add_node(\"Generate Topic\")\n",
        "G.add_node(\"Expand Outline\")\n",
        "G.add_node(\"Write Paragraph\")\n",
        "\n",
        "# Add edges to represent the workflow\n",
        "G.add_edge(\"Generate Topic\", \"Expand Outline\")\n",
        "G.add_edge(\"Expand Outline\", \"Write Paragraph\")\n",
        "\n",
        "# Define the layout for the graph\n",
        "pos = nx.spring_layout(G)\n",
        "\n",
        "# Draw the nodes and edges\n",
        "plt.figure(figsize=(8, 6))\n",
        "nx.draw_networkx_nodes(G, pos, node_color='skyblue', node_size=2000)\n",
        "nx.draw_networkx_edges(G, pos, arrowstyle='->', arrowsize=20, edge_color='gray')\n",
        "nx.draw_networkx_labels(G, pos, font_size=12, font_weight='bold')\n",
        "\n",
        "# Set the title and remove axes\n",
        "plt.title(\"LangGraph Workflow: AI Blog Generator\", fontsize=14)\n",
        "plt.axis('off')\n",
        "\n",
        "# Display the graph\n",
        "plt.show()\n"
      ],
      "metadata": {
        "colab": {
          "base_uri": "https://localhost:8080/",
          "height": 522
        },
        "id": "XmIKLRutmWcD",
        "outputId": "a077212d-623f-4a9d-cedf-6d8a7a3a755e"
      },
      "execution_count": 22,
      "outputs": [
        {
          "output_type": "display_data",
          "data": {
            "text/plain": [
              "<Figure size 800x600 with 1 Axes>"
            ],
            "image/png": "[encoded data removed]"
          },
          "metadata": {}
        }
      ]
    },
    {
      "cell_type": "code",
      "source": [
        "!pip install graphviz\n"
      ],
      "metadata": {
        "colab": {
          "base_uri": "https://localhost:8080/"
        },
        "id": "OBmS2BQhmbgr",
        "outputId": "5439ddaf-f1c7-40bf-d88c-66ff09940b21"
      },
      "execution_count": 19,
      "outputs": [
        {
          "output_type": "stream",
          "name": "stdout",
          "text": [
            "Requirement already satisfied: graphviz in /usr/local/lib/python3.11/dist-packages (0.20.3)\n"
          ]
        }
      ]
    },
    {
      "cell_type": "code",
      "source": [
        "from graphviz import Digraph\n",
        "\n",
        "def visualize_workflow():\n",
        "    dot = Digraph(comment=\"LangGraph Workflow: AI Blog Generator\")\n",
        "    dot.attr(rankdir='LR', size='8,5')\n",
        "\n",
        "    # Define nodes with custom styles\n",
        "    dot.node('A', 'Generate Topic', shape='box', style='filled', color='lightblue')\n",
        "    dot.node('B', 'Expand Outline', shape='box', style='filled', color='lightgreen')\n",
        "    dot.node('C', 'Write Paragraph', shape='box', style='filled', color='lightpink')\n",
        "\n",
        "    # Define edges with labels\n",
        "    dot.edge('A', 'B', label='Topic to Outline')\n",
        "    dot.edge('B', 'C', label='Outline to Paragraph')\n",
        "\n",
        "    # Render and display the graph\n",
        "    return dot\n",
        "\n",
        "workflow_graph = visualize_workflow()\n",
        "workflow_graph.render('langgraph_workflow', format='png', cleanup=True)\n",
        "workflow_graph.view()\n",
        "\n"
      ],
      "metadata": {
        "colab": {
          "base_uri": "https://localhost:8080/",
          "height": 36
        },
        "id": "RwsvBogAmdBP",
        "outputId": "6f48578f-1eab-42a2-d1cc-c562eeaf1cc9"
      },
      "execution_count": 21,
      "outputs": [
        {
          "output_type": "execute_result",
          "data": {
            "text/plain": [
              "'langgraph_workflow.pdf'"
            ],
            "application/vnd.google.colaboratory.intrinsic+json": {
              "type": "string"
            }
          },
          "metadata": {},
          "execution_count": 21
        }
      ]
    },
    {
      "cell_type": "markdown",
      "source": [
        "## 🔍 Task: Enable LangSmith Studio Tracing\n",
        "\n",
        "LangSmith Studio allows you to **monitor, debug, and trace** your LangGraph runs in real time. This is extremely useful for understanding agent behavior and debugging issues.\n",
        "\n",
        "In this step:\n",
        "- We'll configure LangSmith\n",
        "- Enable tracing\n",
        "- Run the graph and log the trace\n"
      ],
      "metadata": {
        "id": "XLYW-51EnPdb"
      }
    },
    {
      "cell_type": "code",
      "source": [
        "# Step 1: Install langsmith SDK if not already installed\n",
        "!pip install -q langsmith\n",
        "\n",
        "# Step 2: Set LangSmith environment variables\n",
        "import os\n",
        "from google.colab import userdata\n",
        "\n",
        "# Replace these values with your actual LangSmith credentials\n",
        "os.environ[\"LANGCHAIN_API_KEY\"] = userdata.get(\"LANGCHAIN_API_KEY\")\n",
        "os.environ[\"LANGCHAIN_PROJECT\"] = \"LangGraph_Agent_Trace\"\n",
        "os.environ[\"LANGCHAIN_ENDPOINT\"] = \"https://api.langchain.plus\"\n",
        "\n",
        "print(\"✅ LangSmith configuration loaded.\")\n"
      ],
      "metadata": {
        "colab": {
          "base_uri": "https://localhost:8080/"
        },
        "id": "dZEURSX1m7lD",
        "outputId": "859f1d91-9f6e-4d5b-fe3f-058d644253c3"
      },
      "execution_count": 24,
      "outputs": [
        {
          "output_type": "stream",
          "name": "stdout",
          "text": [
            "✅ LangSmith configuration loaded.\n"
          ]
        }
      ]
    },
    {
      "cell_type": "code",
      "source": [
        "from langgraph.graph import StateGraph\n",
        "from langsmith.wrappers import wrap_openai\n",
        "from langchain_core.runnables import RunnableLambda\n",
        "from typing import TypedDict\n",
        "\n",
        "# Wrap Gemini model with LangSmith if needed (you can skip if you're using Google models directly)\n",
        "# Example placeholder: wrapped_model = wrap_openai(model)\n",
        "\n",
        "class BlogState(TypedDict):\n",
        "    topic: str\n",
        "    outline: str\n",
        "    paragraph: str\n",
        "\n",
        "# Reuse your existing model and functions (already defined above)\n",
        "\n",
        "builder = StateGraph(BlogState)\n",
        "builder.add_node(\"Generate Topic\", RunnableLambda(generate_topic))\n",
        "builder.add_node(\"Expand Outline\", RunnableLambda(expand_outline))\n",
        "builder.add_node(\"Write Paragraph\", RunnableLambda(write_paragraph))\n",
        "\n",
        "builder.set_entry_point(\"Generate Topic\")\n",
        "builder.add_edge(\"Generate Topic\", \"Expand Outline\")\n",
        "builder.add_edge(\"Expand Outline\", \"Write Paragraph\")\n",
        "builder.set_finish_point(\"Write Paragraph\")\n",
        "\n",
        "graph = builder.compile()\n",
        "\n",
        "# 🚀 Trace this execution using LangSmith\n",
        "print(\"🚀 Running traced LangGraph workflow...\")\n",
        "output = graph.invoke({})\n",
        "print(\"📄 Final Paragraph:\\n\", output[\"paragraph\"])\n"
      ],
      "metadata": {
        "colab": {
          "base_uri": "https://localhost:8080/"
        },
        "id": "31sse9W9nsna",
        "outputId": "d1d4801d-9d63-4b73-bc87-95b43e2a450f"
      },
      "execution_count": 25,
      "outputs": [
        {
          "output_type": "stream",
          "name": "stdout",
          "text": [
            "🚀 Running traced LangGraph workflow...\n",
            "📄 Final Paragraph:\n",
            " From crafting fantastical images from mere text prompts to composing symphonies in seconds, generative AI is rapidly transforming the landscape of content creation.  Tools like DALL-E 2, Midjourney, and Stable Diffusion are empowering anyone with an internet connection to become a digital artist, conjuring breathtaking visuals previously only achievable by skilled professionals.  Meanwhile, language models like GPT-3 are churning out blog posts, marketing copy, and even movie scripts, blurring the lines between human and machine authorship.  This explosion of creative potential, however, comes with its own set of challenges.  Questions of copyright, ownership, and the very definition of creativity are being fiercely debated as we grapple with the implications of this powerful new technology.  While the future impact remains uncertain, one thing is clear: generative AI is revolutionizing how we create and consume content, ushering in an era of unprecedented artistic possibilities and complex ethical considerations.\n"
          ]
        }
      ]
    },
    {
      "cell_type": "markdown",
      "source": [
        "## 🧠 Task 2: Branching Agent Workflow (LangGraph + Gemini)\n",
        "\n",
        "In this workflow, we demonstrate how an agent can follow **different paths** based on a user's preference. This is key in adaptive agent behavior.\n",
        "\n",
        "- If user preference = `\"education\"` → summarize AI news\n",
        "- If user preference = `\"fun\"` → generate a nerdy AI joke\n",
        "\n",
        "We'll use a conditional node in LangGraph and visualize the branch.\n"
      ],
      "metadata": {
        "id": "0tNLWMqJn2nb"
      }
    },
    {
      "cell_type": "code",
      "source": [
        "from typing import TypedDict\n",
        "from langgraph.graph import StateGraph\n",
        "from langchain_core.runnables import RunnableLambda\n",
        "import os\n",
        "\n",
        "# Define schema\n",
        "class BranchState(TypedDict):\n",
        "    preference: str\n",
        "    content: str\n",
        "\n",
        "# Node logic\n",
        "def decide_path(state: BranchState) -> str:\n",
        "    return \"summarize\" if state[\"preference\"] == \"education\" else \"joke\"\n",
        "\n",
        "def summarize(state: BranchState) -> dict:\n",
        "    content = model.invoke(\"Summarize the latest breakthroughs in AI.\").content\n",
        "    return {\"content\": content}\n",
        "\n",
        "def joke(state: BranchState) -> dict:\n",
        "    content = model.invoke(\"Tell me a nerdy AI joke.\").content\n",
        "    return {\"content\": content}\n",
        "\n",
        "# Build graph\n",
        "branch_graph = StateGraph(BranchState)\n",
        "branch_graph.add_node(\"summarize\", RunnableLambda(summarize))\n",
        "branch_graph.add_node(\"joke\", RunnableLambda(joke))\n",
        "# A new node called \"start\" which is a runnable lambda that simply returns an empty dictionary\n",
        "# This is because there is no function to execute on the start node and there are only conditional edges coming from it\n",
        "branch_graph.add_node(\"start\", RunnableLambda(lambda x: {}))\n",
        "branch_graph.add_conditional_edges(\n",
        "    \"start\",\n",
        "    lambda state: decide_path(state),\n",
        "    {\"summarize\": \"summarize\", \"joke\": \"joke\"},\n",
        ")\n",
        "branch_graph.set_entry_point(\"start\")\n",
        "branch_graph.set_finish_point(\"summarize\")\n",
        "branch_graph.set_finish_point(\"joke\")\n",
        "\n",
        "compiled_branch_graph = branch_graph.compile()"
      ],
      "metadata": {
        "id": "uFGFcHjRn3-c"
      },
      "execution_count": 28,
      "outputs": []
    },
    {
      "cell_type": "code",
      "source": [
        "# Test: Education path\n",
        "print(\"🧠 Education Preference\")\n",
        "output_edu = compiled_branch_graph.invoke({\"preference\": \"education\"})\n",
        "print(\"📘 Output:\\n\", output_edu[\"content\"])\n",
        "\n",
        "# Test: Fun path\n",
        "print(\"\\n🎉 Fun Preference\")\n",
        "output_fun = compiled_branch_graph.invoke({\"preference\": \"fun\"})\n",
        "print(\"🤣 Output:\\n\", output_fun[\"content\"])\n"
      ],
      "metadata": {
        "colab": {
          "base_uri": "https://localhost:8080/"
        },
        "id": "WVx6GAGtoAxC",
        "outputId": "79c19897-3522-4dd9-d90f-9bc2ac82542d"
      },
      "execution_count": 29,
      "outputs": [
        {
          "output_type": "stream",
          "name": "stdout",
          "text": [
            "🧠 Education Preference\n",
            "📘 Output:\n",
            " Recent breakthroughs in AI span several areas, making it difficult to give a truly exhaustive list. However, some key advancements include:\n",
            "\n",
            "* **Multimodal AI:**  Models like Gemini,  are capable of understanding and generating content across different modalities like text, images, audio, and video. This opens doors for richer human-computer interaction and more versatile AI applications.\n",
            "\n",
            "* **Generative AI for creative content:**  Significant improvements have been seen in text generation (e.g., more coherent and contextually relevant long-form writing), image synthesis (e.g., generating realistic images from text descriptions with tools like DALL-E 3 and Midjourney), video generation (though still nascent), and even music composition.\n",
            "\n",
            "* **Reinforcement Learning from Human Feedback (RLHF):** This technique has been crucial in aligning large language models with human preferences, leading to more helpful and less harmful outputs. It allows models to learn from human feedback and refine their behavior accordingly.\n",
            "\n",
            "* **Personalized AI:**  Advances in personalized recommendation systems, adaptive learning platforms, and customized healthcare solutions are leveraging AI to tailor experiences to individual needs and preferences.\n",
            "\n",
            "* **AI for Science:** AI is accelerating scientific discovery in fields like drug discovery, materials science, and climate modeling.  For example, AI is being used to predict protein structures, design new materials with specific properties, and analyze complex climate data.\n",
            "\n",
            "* **Improved efficiency and scalability:**  Researchers are constantly working on making AI models more efficient in terms of computational resources and energy consumption, allowing for wider deployment and accessibility.  Techniques like model compression and quantization are playing a key role.\n",
            "\n",
            "* **Explainable AI (XAI):**  The \"black box\" nature of many AI models is being addressed through research in XAI, which aims to make AI decision-making more transparent and understandable. This is crucial for building trust and ensuring responsible AI deployment.\n",
            "\n",
            "* **Embodied AI:**  Research is progressing in creating AI agents that can interact with the physical world through robots or simulated environments. This involves integrating perception, reasoning, and action, and has applications in robotics, autonomous driving, and other areas.\n",
            "\n",
            "\n",
            "It's important to note that this is a rapidly evolving field, and new breakthroughs are constantly emerging. These advancements are driving significant changes across various industries and raising important ethical and societal considerations that need ongoing discussion and attention.\n",
            "\n",
            "🎉 Fun Preference\n",
            "🤣 Output:\n",
            " Why do neural networks prefer Bayesian inference over frequentist approaches?\n",
            "\n",
            "Because they're all about that *prior* knowledge!\n"
          ]
        }
      ]
    },
    {
      "cell_type": "code",
      "source": [
        "import networkx as nx\n",
        "import matplotlib.pyplot as plt\n",
        "\n",
        "G = nx.DiGraph()\n",
        "G.add_node(\"start\", label=\"User Preference\")\n",
        "G.add_node(\"summarize\", label=\"Summarize AI News\")\n",
        "G.add_node(\"joke\", label=\"Tell AI Joke\")\n",
        "\n",
        "G.add_edge(\"start\", \"summarize\", label=\"If 'education'\")\n",
        "G.add_edge(\"start\", \"joke\", label=\"If 'fun'\")\n",
        "\n",
        "plt.figure(figsize=(8, 6))\n",
        "pos = nx.spring_layout(G, seed=42)\n",
        "nx.draw_networkx_nodes(G, pos, node_color='lightgreen', node_size=3000)\n",
        "nx.draw_networkx_edges(G, pos, arrows=True, arrowstyle=\"->\", width=2)\n",
        "nx.draw_networkx_labels(G, pos, font_size=12, font_weight='bold')\n",
        "\n",
        "edge_labels = nx.get_edge_attributes(G, 'label')\n",
        "nx.draw_networkx_edge_labels(G, pos, edge_labels=edge_labels)\n",
        "\n",
        "plt.title(\"LangGraph Branching Agent Workflow\", fontsize=14)\n",
        "plt.axis('off')\n",
        "plt.show()\n"
      ],
      "metadata": {
        "colab": {
          "base_uri": "https://localhost:8080/",
          "height": 522
        },
        "id": "XbQOKe6NoEIi",
        "outputId": "225501ab-eaa6-4df5-f50a-82e93c6f379c"
      },
      "execution_count": 30,
      "outputs": [
        {
          "output_type": "display_data",
          "data": {
            "text/plain": [
              "<Figure size 800x600 with 1 Axes>"
            ],
            "image/png": "[encoded data removed]"
          },
          "metadata": {}
        }
      ]
    },
    {
      "cell_type": "markdown",
      "source": [
        "## 🔁 Task 3: Retry & Loop Agent Workflow\n",
        "\n",
        "This task demonstrates a retry loop behavior where the agent **retries** a task until a condition is satisfied.\n",
        "\n",
        "Scenario:\n",
        "- The agent generates an AI-related sentence.\n",
        "- If the sentence does **not contain the keyword \"AI\"**, it **retries** generation.\n",
        "\n",
        "This kind of loop is helpful for:\n",
        "- Data validation\n",
        "- Human-in-the-loop feedback\n",
        "- Output quality assurance\n"
      ],
      "metadata": {
        "id": "1zotdRI8oJmw"
      }
    },
    {
      "cell_type": "code",
      "source": [
        "from langgraph.graph import StateGraph\n",
        "from langchain_core.runnables import RunnableLambda\n",
        "from typing import TypedDict\n",
        "\n",
        "class RetryState(TypedDict):\n",
        "    sentence: str\n",
        "    retry_count: int\n",
        "\n",
        "# Generator node\n",
        "def generate_sentence(state: RetryState) -> dict:\n",
        "    response = model.invoke(\"Write a sentence about technology.\").content\n",
        "    return {\"sentence\": response, \"retry_count\": state.get(\"retry_count\", 0) + 1}\n",
        "\n",
        "# Validator node\n",
        "def validate_sentence(state: RetryState) -> str:\n",
        "    return \"accept\" if \"AI\" in state[\"sentence\"] else \"retry\"\n",
        "\n",
        "# Build graph\n",
        "loop_graph = StateGraph(RetryState)\n",
        "loop_graph.add_node(\"generate\", RunnableLambda(generate_sentence))\n",
        "loop_graph.add_node(\"accept\", RunnableLambda(lambda x: x))\n",
        "\n",
        "# Conditional loop: validate and decide\n",
        "loop_graph.add_conditional_edges(\n",
        "    \"generate\",\n",
        "    validate_sentence,\n",
        "    {\n",
        "        \"retry\": \"generate\",  # Loop back if condition not met\n",
        "        \"accept\": \"accept\",   # Finish if condition met\n",
        "    },\n",
        ")\n",
        "\n",
        "loop_graph.set_entry_point(\"generate\")\n",
        "loop_graph.set_finish_point(\"accept\")\n",
        "\n",
        "compiled_loop_graph = loop_graph.compile()\n"
      ],
      "metadata": {
        "id": "YjKVxf_goIqY"
      },
      "execution_count": 32,
      "outputs": []
    }
  ]
}