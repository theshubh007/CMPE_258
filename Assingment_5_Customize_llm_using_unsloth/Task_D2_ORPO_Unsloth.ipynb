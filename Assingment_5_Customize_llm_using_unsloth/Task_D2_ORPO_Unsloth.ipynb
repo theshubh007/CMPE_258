{
  "cells": [
    {
      "cell_type": "markdown",
      "source": [
        "### Fine-Tuning a Language Model Using ORPO (Offline Reinforcement Preference Optimization)\n",
        "\n",
        "In this notebook, I implemented **Offline Reinforcement Preference Optimization (ORPO)** using the **Unsloth** and **TRL** libraries to align a language model with human preferences. ORPO helps train a reward-based model using only logged data (without requiring online reinforcement learning). The process followed here includes:\n",
        "\n",
        "- Installing necessary libraries like `unsloth`, `trl`, `transformers`, and `deepspeed`.\n",
        "- Loading a dataset with prompt–chosen–rejected examples.\n",
        "- Formatting the dataset to match the ORPO input requirements.\n",
        "- Initializing a LoRA-compatible language model using Unsloth.\n",
        "- Setting ORPO training configurations.\n",
        "- Fine-tuning the model with the `ORPOTrainer`.\n",
        "- Saving and testing the final model on sample prompts.\n",
        "\n",
        "This training method enhances the model’s alignment and preference prediction capabilities while avoiding the complexities of online RL.\n"
      ],
      "metadata": {
        "id": "5ll76YCAaGTU"
      }
    },
    {
      "cell_type": "code",
      "execution_count": null,
      "metadata": {
        "colab": {
          "base_uri": "https://localhost:8080/"
        },
        "id": "XX4rVvYMNL-8",
        "outputId": "ecd604a2-c2a4-42d5-b9e9-78548be96cd0"
      },
      "outputs": [
        {
          "name": "stdout",
          "output_type": "stream",
          "text": [
            "\u001b[31mERROR: Could not find a version that satisfies the requirement unsloth==2023.12 (from versions: 2024.8, 2024.9, 2024.9.post1, 2024.9.post2, 2024.9.post3, 2024.9.post4, 2024.10.0, 2024.10.1, 2024.10.2, 2024.10.4, 2024.10.5, 2024.10.6, 2024.10.7, 2024.11.2, 2024.11.4, 2024.11.5, 2024.11.6, 2024.11.7, 2024.11.8, 2024.11.9, 2024.11.10, 2024.11.11, 2024.12.1, 2024.12.2, 2024.12.3, 2024.12.4, 2024.12.5, 2024.12.6, 2024.12.7, 2024.12.8, 2024.12.9, 2024.12.10, 2024.12.11, 2024.12.12, 2025.1.1, 2025.1.2, 2025.1.3, 2025.1.4, 2025.1.5, 2025.1.6, 2025.1.8, 2025.2.2, 2025.2.3, 2025.2.4, 2025.2.5, 2025.2.6, 2025.2.7, 2025.2.8, 2025.2.9, 2025.2.10, 2025.2.11, 2025.2.12, 2025.2.13, 2025.2.14, 2025.2.15, 2025.3.1, 2025.3.2, 2025.3.3, 2025.3.4, 2025.3.5, 2025.3.6, 2025.3.7, 2025.3.8, 2025.3.9, 2025.3.10, 2025.3.11, 2025.3.12, 2025.3.13, 2025.3.14, 2025.3.15, 2025.3.16, 2025.3.17, 2025.3.18, 2025.3.19)\u001b[0m\u001b[31m\n",
            "\u001b[0m\u001b[31mERROR: No matching distribution found for unsloth==2023.12\u001b[0m\u001b[31m\n",
            "\u001b[0m\u001b[31mERROR: pip's dependency resolver does not currently take into account all the packages that are installed. This behaviour is the source of the following dependency conflicts.\n",
            "unsloth-zoo 2025.3.17 requires trl!=0.15.0,!=0.9.0,!=0.9.1,!=0.9.2,!=0.9.3,<=0.15.2,>=0.7.9, but you have trl 0.16.1 which is incompatible.\n",
            "unsloth 2025.3.19 requires trl!=0.15.0,!=0.9.0,!=0.9.1,!=0.9.2,!=0.9.3,<=0.15.2,>=0.7.9, but you have trl 0.16.1 which is incompatible.\u001b[0m\u001b[31m\n",
            "\u001b[0mRequirement already satisfied: unsloth in /usr/local/lib/python3.11/dist-packages (2025.3.19)\n",
            "Requirement already satisfied: unsloth_zoo>=2025.3.17 in /usr/local/lib/python3.11/dist-packages (from unsloth) (2025.3.17)\n",
            "Requirement already satisfied: torch>=2.4.0 in /usr/local/lib/python3.11/dist-packages (from unsloth) (2.6.0+cu124)\n",
            "Requirement already satisfied: xformers>=0.0.27.post2 in /usr/local/lib/python3.11/dist-packages (from unsloth) (0.0.29.post3)\n",
            "Requirement already satisfied: bitsandbytes in /usr/local/lib/python3.11/dist-packages (from unsloth) (0.45.5)\n",
            "Requirement already satisfied: triton>=3.0.0 in /usr/local/lib/python3.11/dist-packages (from unsloth) (3.2.0)\n",
            "Requirement already satisfied: packaging in /usr/local/lib/python3.11/dist-packages (from unsloth) (24.2)\n",
            "Requirement already satisfied: tyro in /usr/local/lib/python3.11/dist-packages (from unsloth) (0.9.18)\n",
            "Requirement already satisfied: transformers!=4.47.0,>=4.46.1 in /usr/local/lib/python3.11/dist-packages (from unsloth) (4.51.3)\n",
            "Requirement already satisfied: datasets>=2.16.0 in /usr/local/lib/python3.11/dist-packages (from unsloth) (3.5.0)\n",
            "Requirement already satisfied: sentencepiece>=0.2.0 in /usr/local/lib/python3.11/dist-packages (from unsloth) (0.2.0)\n",
            "Requirement already satisfied: tqdm in /usr/local/lib/python3.11/dist-packages (from unsloth) (4.67.1)\n",
            "Requirement already satisfied: psutil in /usr/local/lib/python3.11/dist-packages (from unsloth) (5.9.5)\n",
            "Requirement already satisfied: wheel>=0.42.0 in /usr/local/lib/python3.11/dist-packages (from unsloth) (0.45.1)\n",
            "Requirement already satisfied: numpy in /usr/local/lib/python3.11/dist-packages (from unsloth) (2.0.2)\n",
            "Requirement already satisfied: accelerate>=0.34.1 in /usr/local/lib/python3.11/dist-packages (from unsloth) (1.6.0)\n",
            "Collecting trl!=0.15.0,!=0.9.0,!=0.9.1,!=0.9.2,!=0.9.3,<=0.15.2,>=0.7.9 (from unsloth)\n",
            "  Using cached trl-0.15.2-py3-none-any.whl.metadata (11 kB)\n",
            "Requirement already satisfied: peft!=0.11.0,>=0.7.1 in /usr/local/lib/python3.11/dist-packages (from unsloth) (0.15.2)\n",
            "Requirement already satisfied: protobuf<4.0.0 in /usr/local/lib/python3.11/dist-packages (from unsloth) (3.20.3)\n",
            "Requirement already satisfied: huggingface_hub in /usr/local/lib/python3.11/dist-packages (from unsloth) (0.30.2)\n",
            "Requirement already satisfied: hf_transfer in /usr/local/lib/python3.11/dist-packages (from unsloth) (0.1.9)\n",
            "Requirement already satisfied: diffusers in /usr/local/lib/python3.11/dist-packages (from unsloth) (0.32.2)\n",
            "Requirement already satisfied: torchvision in /usr/local/lib/python3.11/dist-packages (from unsloth) (0.21.0+cu124)\n",
            "Requirement already satisfied: pyyaml in /usr/local/lib/python3.11/dist-packages (from accelerate>=0.34.1->unsloth) (6.0.2)\n",
            "Requirement already satisfied: safetensors>=0.4.3 in /usr/local/lib/python3.11/dist-packages (from accelerate>=0.34.1->unsloth) (0.5.3)\n",
            "Requirement already satisfied: filelock in /usr/local/lib/python3.11/dist-packages (from datasets>=2.16.0->unsloth) (3.18.0)\n",
            "Requirement already satisfied: pyarrow>=15.0.0 in /usr/local/lib/python3.11/dist-packages (from datasets>=2.16.0->unsloth) (18.1.0)\n",
            "Requirement already satisfied: dill<0.3.9,>=0.3.0 in /usr/local/lib/python3.11/dist-packages (from datasets>=2.16.0->unsloth) (0.3.8)\n",
            "Requirement already satisfied: pandas in /usr/local/lib/python3.11/dist-packages (from datasets>=2.16.0->unsloth) (2.2.2)\n",
            "Requirement already satisfied: requests>=2.32.2 in /usr/local/lib/python3.11/dist-packages (from datasets>=2.16.0->unsloth) (2.32.3)\n",
            "Requirement already satisfied: xxhash in /usr/local/lib/python3.11/dist-packages (from datasets>=2.16.0->unsloth) (3.5.0)\n",
            "Requirement already satisfied: multiprocess<0.70.17 in /usr/local/lib/python3.11/dist-packages (from datasets>=2.16.0->unsloth) (0.70.16)\n",
            "Requirement already satisfied: fsspec<=2024.12.0,>=2023.1.0 in /usr/local/lib/python3.11/dist-packages (from fsspec[http]<=2024.12.0,>=2023.1.0->datasets>=2.16.0->unsloth) (2024.12.0)\n",
            "Requirement already satisfied: aiohttp in /usr/local/lib/python3.11/dist-packages (from datasets>=2.16.0->unsloth) (3.11.15)\n",
            "Requirement already satisfied: typing-extensions>=3.7.4.3 in /usr/local/lib/python3.11/dist-packages (from huggingface_hub->unsloth) (4.13.1)\n",
            "Requirement already satisfied: networkx in /usr/local/lib/python3.11/dist-packages (from torch>=2.4.0->unsloth) (3.4.2)\n",
            "Requirement already satisfied: jinja2 in /usr/local/lib/python3.11/dist-packages (from torch>=2.4.0->unsloth) (3.1.6)\n",
            "Requirement already satisfied: nvidia-cuda-nvrtc-cu12==12.4.127 in /usr/local/lib/python3.11/dist-packages (from torch>=2.4.0->unsloth) (12.4.127)\n",
            "Requirement already satisfied: nvidia-cuda-runtime-cu12==12.4.127 in /usr/local/lib/python3.11/dist-packages (from torch>=2.4.0->unsloth) (12.4.127)\n",
            "Requirement already satisfied: nvidia-cuda-cupti-cu12==12.4.127 in /usr/local/lib/python3.11/dist-packages (from torch>=2.4.0->unsloth) (12.4.127)\n",
            "Requirement already satisfied: nvidia-cudnn-cu12==9.1.0.70 in /usr/local/lib/python3.11/dist-packages (from torch>=2.4.0->unsloth) (9.1.0.70)\n",
            "Requirement already satisfied: nvidia-cublas-cu12==12.4.5.8 in /usr/local/lib/python3.11/dist-packages (from torch>=2.4.0->unsloth) (12.4.5.8)\n",
            "Requirement already satisfied: nvidia-cufft-cu12==11.2.1.3 in /usr/local/lib/python3.11/dist-packages (from torch>=2.4.0->unsloth) (11.2.1.3)\n",
            "Requirement already satisfied: nvidia-curand-cu12==10.3.5.147 in /usr/local/lib/python3.11/dist-packages (from torch>=2.4.0->unsloth) (10.3.5.147)\n",
            "Requirement already satisfied: nvidia-cusolver-cu12==11.6.1.9 in /usr/local/lib/python3.11/dist-packages (from torch>=2.4.0->unsloth) (11.6.1.9)\n",
            "Requirement already satisfied: nvidia-cusparse-cu12==12.3.1.170 in /usr/local/lib/python3.11/dist-packages (from torch>=2.4.0->unsloth) (12.3.1.170)\n",
            "Requirement already satisfied: nvidia-cusparselt-cu12==0.6.2 in /usr/local/lib/python3.11/dist-packages (from torch>=2.4.0->unsloth) (0.6.2)\n",
            "Requirement already satisfied: nvidia-nccl-cu12==2.21.5 in /usr/local/lib/python3.11/dist-packages (from torch>=2.4.0->unsloth) (2.21.5)\n",
            "Requirement already satisfied: nvidia-nvtx-cu12==12.4.127 in /usr/local/lib/python3.11/dist-packages (from torch>=2.4.0->unsloth) (12.4.127)\n",
            "Requirement already satisfied: nvidia-nvjitlink-cu12==12.4.127 in /usr/local/lib/python3.11/dist-packages (from torch>=2.4.0->unsloth) (12.4.127)\n",
            "Requirement already satisfied: sympy==1.13.1 in /usr/local/lib/python3.11/dist-packages (from torch>=2.4.0->unsloth) (1.13.1)\n",
            "Requirement already satisfied: mpmath<1.4,>=1.1.0 in /usr/local/lib/python3.11/dist-packages (from sympy==1.13.1->torch>=2.4.0->unsloth) (1.3.0)\n",
            "Requirement already satisfied: regex!=2019.12.17 in /usr/local/lib/python3.11/dist-packages (from transformers!=4.47.0,>=4.46.1->unsloth) (2024.11.6)\n",
            "Requirement already satisfied: tokenizers<0.22,>=0.21 in /usr/local/lib/python3.11/dist-packages (from transformers!=4.47.0,>=4.46.1->unsloth) (0.21.1)\n",
            "Requirement already satisfied: rich in /usr/local/lib/python3.11/dist-packages (from trl!=0.15.0,!=0.9.0,!=0.9.1,!=0.9.2,!=0.9.3,<=0.15.2,>=0.7.9->unsloth) (13.9.4)\n",
            "Requirement already satisfied: cut_cross_entropy in /usr/local/lib/python3.11/dist-packages (from unsloth_zoo>=2025.3.17->unsloth) (25.1.1)\n",
            "Requirement already satisfied: pillow in /usr/local/lib/python3.11/dist-packages (from unsloth_zoo>=2025.3.17->unsloth) (11.1.0)\n",
            "Requirement already satisfied: importlib-metadata in /usr/local/lib/python3.11/dist-packages (from diffusers->unsloth) (8.6.1)\n",
            "Requirement already satisfied: docstring-parser>=0.15 in /usr/local/lib/python3.11/dist-packages (from tyro->unsloth) (0.16)\n",
            "Requirement already satisfied: shtab>=1.5.6 in /usr/local/lib/python3.11/dist-packages (from tyro->unsloth) (1.7.2)\n",
            "Requirement already satisfied: typeguard>=4.0.0 in /usr/local/lib/python3.11/dist-packages (from tyro->unsloth) (4.4.2)\n",
            "Requirement already satisfied: aiohappyeyeballs>=2.3.0 in /usr/local/lib/python3.11/dist-packages (from aiohttp->datasets>=2.16.0->unsloth) (2.6.1)\n",
            "Requirement already satisfied: aiosignal>=1.1.2 in /usr/local/lib/python3.11/dist-packages (from aiohttp->datasets>=2.16.0->unsloth) (1.3.2)\n",
            "Requirement already satisfied: attrs>=17.3.0 in /usr/local/lib/python3.11/dist-packages (from aiohttp->datasets>=2.16.0->unsloth) (25.3.0)\n",
            "Requirement already satisfied: frozenlist>=1.1.1 in /usr/local/lib/python3.11/dist-packages (from aiohttp->datasets>=2.16.0->unsloth) (1.5.0)\n",
            "Requirement already satisfied: multidict<7.0,>=4.5 in /usr/local/lib/python3.11/dist-packages (from aiohttp->datasets>=2.16.0->unsloth) (6.4.2)\n",
            "Requirement already satisfied: propcache>=0.2.0 in /usr/local/lib/python3.11/dist-packages (from aiohttp->datasets>=2.16.0->unsloth) (0.3.1)\n",
            "Requirement already satisfied: yarl<2.0,>=1.17.0 in /usr/local/lib/python3.11/dist-packages (from aiohttp->datasets>=2.16.0->unsloth) (1.19.0)\n",
            "Requirement already satisfied: charset-normalizer<4,>=2 in /usr/local/lib/python3.11/dist-packages (from requests>=2.32.2->datasets>=2.16.0->unsloth) (3.4.1)\n",
            "Requirement already satisfied: idna<4,>=2.5 in /usr/local/lib/python3.11/dist-packages (from requests>=2.32.2->datasets>=2.16.0->unsloth) (3.10)\n",
            "Requirement already satisfied: urllib3<3,>=1.21.1 in /usr/local/lib/python3.11/dist-packages (from requests>=2.32.2->datasets>=2.16.0->unsloth) (2.3.0)\n",
            "Requirement already satisfied: certifi>=2017.4.17 in /usr/local/lib/python3.11/dist-packages (from requests>=2.32.2->datasets>=2.16.0->unsloth) (2025.1.31)\n",
            "Requirement already satisfied: markdown-it-py>=2.2.0 in /usr/local/lib/python3.11/dist-packages (from rich->trl!=0.15.0,!=0.9.0,!=0.9.1,!=0.9.2,!=0.9.3,<=0.15.2,>=0.7.9->unsloth) (3.0.0)\n",
            "Requirement already satisfied: pygments<3.0.0,>=2.13.0 in /usr/local/lib/python3.11/dist-packages (from rich->trl!=0.15.0,!=0.9.0,!=0.9.1,!=0.9.2,!=0.9.3,<=0.15.2,>=0.7.9->unsloth) (2.18.0)\n",
            "Requirement already satisfied: zipp>=3.20 in /usr/local/lib/python3.11/dist-packages (from importlib-metadata->diffusers->unsloth) (3.21.0)\n",
            "Requirement already satisfied: MarkupSafe>=2.0 in /usr/local/lib/python3.11/dist-packages (from jinja2->torch>=2.4.0->unsloth) (3.0.2)\n",
            "Requirement already satisfied: python-dateutil>=2.8.2 in /usr/local/lib/python3.11/dist-packages (from pandas->datasets>=2.16.0->unsloth) (2.8.2)\n",
            "Requirement already satisfied: pytz>=2020.1 in /usr/local/lib/python3.11/dist-packages (from pandas->datasets>=2.16.0->unsloth) (2025.2)\n",
            "Requirement already satisfied: tzdata>=2022.7 in /usr/local/lib/python3.11/dist-packages (from pandas->datasets>=2.16.0->unsloth) (2025.2)\n",
            "Requirement already satisfied: mdurl~=0.1 in /usr/local/lib/python3.11/dist-packages (from markdown-it-py>=2.2.0->rich->trl!=0.15.0,!=0.9.0,!=0.9.1,!=0.9.2,!=0.9.3,<=0.15.2,>=0.7.9->unsloth) (0.1.2)\n",
            "Requirement already satisfied: six>=1.5 in /usr/local/lib/python3.11/dist-packages (from python-dateutil>=2.8.2->pandas->datasets>=2.16.0->unsloth) (1.17.0)\n",
            "Using cached trl-0.15.2-py3-none-any.whl (318 kB)\n",
            "Installing collected packages: trl\n",
            "  Attempting uninstall: trl\n",
            "    Found existing installation: trl 0.16.1\n",
            "    Uninstalling trl-0.16.1:\n",
            "      Successfully uninstalled trl-0.16.1\n",
            "Successfully installed trl-0.15.2\n"
          ]
        }
      ],
      "source": [
        "!pip install -q unsloth==2023.12\n",
        "!pip install -q -U trl transformers accelerate peft bitsandbytes\n",
        "!pip install -q datasets scipy\n",
        "!pip install -q deepspeed\n",
        "!pip install unsloth"
      ]
    },
    {
      "cell_type": "code",
      "execution_count": null,
      "metadata": {
        "colab": {
          "base_uri": "https://localhost:8080/"
        },
        "id": "9McXAoJCNL8E",
        "outputId": "195500e8-dc3c-4369-8ae4-81674b3c5f9a"
      },
      "outputs": [
        {
          "name": "stderr",
          "output_type": "stream",
          "text": [
            "<ipython-input-2-370ed40ed37c>:7: UserWarning: WARNING: Unsloth should be imported before transformers to ensure all optimizations are applied. Your code may run slower or encounter memory issues without these optimizations.\n",
            "\n",
            "Please restructure your imports with 'import unsloth' at the top of your file.\n",
            "  from unsloth import FastLanguageModel\n"
          ]
        },
        {
          "name": "stdout",
          "output_type": "stream",
          "text": [
            "🦥 Unsloth: Will patch your computer to enable 2x faster free finetuning.\n",
            "[2025-04-15 22:13:30,658] [INFO] [real_accelerator.py:239:get_accelerator] Setting ds_accelerator to cuda (auto detect)\n",
            "Unsloth: Failed to patch Gemma3ForConditionalGeneration.\n",
            "🦥 Unsloth Zoo will now patch everything to make training faster!\n"
          ]
        }
      ],
      "source": [
        "import torch\n",
        "import numpy as np\n",
        "import pandas as pd\n",
        "import matplotlib.pyplot as plt\n",
        "from datasets import load_dataset\n",
        "from transformers import AutoTokenizer, AutoModelForCausalLM\n",
        "from unsloth import FastLanguageModel\n",
        "from peft import LoraConfig\n",
        "import gc\n",
        "import torch.nn.functional as F\n",
        "from tqdm import tqdm\n",
        "import os"
      ]
    },
    {
      "cell_type": "code",
      "execution_count": null,
      "metadata": {
        "id": "_w2VU0WqNL5W"
      },
      "outputs": [],
      "source": [
        "# Set seed for reproducibility\n",
        "seed = 42\n",
        "torch.manual_seed(seed)\n",
        "np.random.seed(seed)"
      ]
    },
    {
      "cell_type": "code",
      "execution_count": null,
      "metadata": {
        "id": "bZFI4bbENQN-"
      },
      "outputs": [],
      "source": [
        "# Function to clear GPU memory\n",
        "def clear_memory():\n",
        "    gc.collect()\n",
        "    if torch.cuda.is_available():\n",
        "        torch.cuda.empty_cache()"
      ]
    },
    {
      "cell_type": "code",
      "execution_count": null,
      "metadata": {
        "id": "9PBrPgI6NQLk"
      },
      "outputs": [],
      "source": [
        "def create_synthetic_dataset(num_samples=1000):\n",
        "    # Create simple synthetic data for demonstration purposes\n",
        "    prompts = [\n",
        "        f\"Question {i}: What are the ethical implications of AI in healthcare?\"\n",
        "        for i in range(num_samples)\n",
        "    ]\n",
        "\n",
        "    # Generate two responses for each prompt - one preferred and one rejected\n",
        "    preferred_responses = [\n",
        "        f\"The ethical implications of AI in healthcare include: 1) Privacy concerns regarding patient data, 2) Potential biases in AI algorithms leading to healthcare disparities, 3) Questions about liability when AI systems make mistakes, 4) Ensuring equitable access to AI-enhanced healthcare. These issues require careful consideration through robust regulatory frameworks, transparent AI systems, and ongoing stakeholder engagement to ensure AI benefits all patients ethically.\"\n",
        "        for _ in range(num_samples)\n",
        "    ]\n",
        "\n",
        "    rejected_responses = [\n",
        "        f\"AI in healthcare has some ethical issues. Some people worry about privacy. AI might be biased. It's important to be careful when using AI in healthcare.\"\n",
        "        for _ in range(num_samples)\n",
        "    ]\n",
        "\n",
        "    # Create the dataset for ORPo training\n",
        "    data = []\n",
        "    for i in range(num_samples):\n",
        "        data.append({\n",
        "            \"prompt\": prompts[i],\n",
        "            \"chosen\": preferred_responses[i],\n",
        "            \"rejected\": rejected_responses[i],\n",
        "        })\n",
        "\n",
        "    return pd.DataFrame(data)"
      ]
    },
    {
      "cell_type": "code",
      "execution_count": null,
      "metadata": {
        "colab": {
          "base_uri": "https://localhost:8080/"
        },
        "id": "1uTN9SYGNQJB",
        "outputId": "66ef77fe-1112-4486-bf18-2566fddf409f"
      },
      "outputs": [
        {
          "name": "stdout",
          "output_type": "stream",
          "text": [
            "Dataset created with 500 samples\n",
            "                                              prompt  \\\n",
            "0  Question 0: What are the ethical implications ...   \n",
            "1  Question 1: What are the ethical implications ...   \n",
            "\n",
            "                                              chosen  \\\n",
            "0  The ethical implications of AI in healthcare i...   \n",
            "1  The ethical implications of AI in healthcare i...   \n",
            "\n",
            "                                            rejected  \n",
            "0  AI in healthcare has some ethical issues. Some...  \n",
            "1  AI in healthcare has some ethical issues. Some...  \n"
          ]
        }
      ],
      "source": [
        "# Create the synthetic dataset\n",
        "df = create_synthetic_dataset(500)\n",
        "print(f\"Dataset created with {len(df)} samples\")\n",
        "print(df.head(2))"
      ]
    },
    {
      "cell_type": "code",
      "execution_count": null,
      "metadata": {
        "colab": {
          "base_uri": "https://localhost:8080/"
        },
        "id": "p739iyGHNQGT",
        "outputId": "b7541aea-3501-4aec-f67a-2b330f49cae2"
      },
      "outputs": [
        {
          "name": "stdout",
          "output_type": "stream",
          "text": [
            "Dataset saved to orpo_dataset.csv\n"
          ]
        }
      ],
      "source": [
        "# Save the dataset to disk\n",
        "dataset_path = \"orpo_dataset.csv\"\n",
        "df.to_csv(dataset_path, index=False)\n",
        "print(f\"Dataset saved to {dataset_path}\")"
      ]
    },
    {
      "cell_type": "code",
      "execution_count": null,
      "metadata": {
        "id": "5ddu7GA0NUdm"
      },
      "outputs": [],
      "source": [
        "model_id = \"facebook/opt-1.3b\"\n",
        "max_seq_length = 512"
      ]
    },
    {
      "cell_type": "code",
      "execution_count": null,
      "metadata": {
        "id": "e8AY5NURNUYh"
      },
      "outputs": [],
      "source": [
        "import os\n",
        "from huggingface_hub import login\n",
        "from transformers import AutoTokenizer, AutoModelForCausalLM\n",
        "\n",
        "# Login to Hugging Face\n",
        "login(token=\"xyz\")\n",
        "\n",
        "# Now try loading the model\n",
        "tokenizer = AutoTokenizer.from_pretrained(\"facebook/opt-1.3b\")\n",
        "model = AutoModelForCausalLM.from_pretrained(\"facebook/opt-1.3b\")"
      ]
    },
    {
      "cell_type": "code",
      "execution_count": null,
      "metadata": {
        "id": "adwkk9llNbCj"
      },
      "outputs": [],
      "source": [
        "# Create LoRA config using LoraConfig directly\n",
        "lora_config = LoraConfig(\n",
        "    r=16,\n",
        "    lora_alpha=16,\n",
        "    lora_dropout=0.05,\n",
        "    target_modules=[\"q_proj\", \"k_proj\", \"v_proj\", \"o_proj\", \"gate_proj\", \"up_proj\", \"down_proj\"],\n",
        "    bias=\"none\",\n",
        "    task_type=\"CAUSAL_LM\"\n",
        ")"
      ]
    },
    {
      "cell_type": "code",
      "execution_count": null,
      "metadata": {
        "colab": {
          "base_uri": "https://localhost:8080/"
        },
        "id": "I_TEp6zNNbAW",
        "outputId": "a9e4fd6e-a501-423a-e0c4-5ac09fee6a2b"
      },
      "outputs": [
        {
          "name": "stderr",
          "output_type": "stream",
          "text": [
            "Device does not support bfloat16. Will change to float16.\n"
          ]
        },
        {
          "name": "stdout",
          "output_type": "stream",
          "text": [
            "==((====))==  Unsloth 2025.3.19: Fast Opt patching. Transformers: 4.51.3.\n",
            "   \\\\   /|    Tesla T4. Num GPUs = 1. Max memory: 14.741 GB. Platform: Linux.\n",
            "O^O/ \\_/ \\    Torch: 2.6.0+cu124. CUDA: 7.5. CUDA Toolkit: 12.4. Triton: 3.2.0\n",
            "\\        /    Bfloat16 = FALSE. FA [Xformers = 0.0.29.post3. FA2 = False]\n",
            " \"-____-\"     Free license: http://github.com/unslothai/unsloth\n",
            "Unsloth: Fast downloading is enabled - ignore downloading bars which are red colored!\n"
          ]
        }
      ],
      "source": [
        "# Load the model with Unsloth optimizations\n",
        "model, tokenizer = FastLanguageModel.from_pretrained(\n",
        "    model_id,\n",
        "    max_seq_length=max_seq_length,\n",
        "    dtype=torch.bfloat16,\n",
        "    load_in_4bit=True,\n",
        ")"
      ]
    },
    {
      "cell_type": "code",
      "execution_count": null,
      "metadata": {
        "id": "FAs6hjmpNa9e"
      },
      "outputs": [],
      "source": [
        "# Define the custom ORPo trainer\n",
        "class ORPoTrainer:\n",
        "    def __init__(self, model, tokenizer, beta=0.1):\n",
        "        self.model = model\n",
        "        self.tokenizer = tokenizer\n",
        "        self.beta = beta  # KL penalty coefficient\n",
        "\n",
        "    def prepare_batch(self, prompts, chosen_responses, rejected_responses):\n",
        "        # Tokenize prompts\n",
        "        prompt_tokens = self.tokenizer(\n",
        "            prompts,\n",
        "            padding=True,\n",
        "            truncation=True,\n",
        "            max_length=max_seq_length // 3,\n",
        "            return_tensors=\"pt\"\n",
        "        ).to(device)\n",
        "\n",
        "        # Tokenize chosen and rejected responses with their prompts\n",
        "        chosen_inputs = self.tokenizer(\n",
        "            [p + c for p, c in zip(prompts, chosen_responses)],\n",
        "            padding=True,\n",
        "            truncation=True,\n",
        "            max_length=max_seq_length,\n",
        "            return_tensors=\"pt\"\n",
        "        ).to(device)\n",
        "\n",
        "        rejected_inputs = self.tokenizer(\n",
        "            [p + r for p, r in zip(prompts, rejected_responses)],\n",
        "            padding=True,\n",
        "            truncation=True,\n",
        "            max_length=max_seq_length,\n",
        "            return_tensors=\"pt\"\n",
        "        ).to(device)\n",
        "\n",
        "        # Calculate prompt length for each example to separate prompt from response\n",
        "        prompt_lens = [len(self.tokenizer(p).input_ids) for p in prompts]\n",
        "\n",
        "        return prompt_tokens, chosen_inputs, rejected_inputs, prompt_lens\n",
        "\n",
        "    def compute_orpo_loss(self, chosen_logits, rejected_logits, chosen_inputs, rejected_inputs, prompt_lens):\n",
        "        batch_size = len(prompt_lens)\n",
        "        losses = []\n",
        "\n",
        "        for i in range(batch_size):\n",
        "            # Get response part only (excluding prompt) for chosen and rejected\n",
        "            chosen_len = len(chosen_inputs.input_ids[i]) - prompt_lens[i]\n",
        "            rejected_len = len(rejected_inputs.input_ids[i]) - prompt_lens[i]\n",
        "\n",
        "            if chosen_len <= 0 or rejected_len <= 0:\n",
        "                continue\n",
        "\n",
        "            # Extract logits for the response part only\n",
        "            chosen_response_logits = chosen_logits[i, prompt_lens[i]-1:prompt_lens[i]+chosen_len-1, :]\n",
        "            chosen_response_labels = chosen_inputs.input_ids[i][prompt_lens[i]:prompt_lens[i]+chosen_len]\n",
        "\n",
        "            rejected_response_logits = rejected_logits[i, prompt_lens[i]-1:prompt_lens[i]+rejected_len-1, :]\n",
        "            rejected_response_labels = rejected_inputs.input_ids[i][prompt_lens[i]:prompt_lens[i]+rejected_len]\n",
        "\n",
        "            # Compute log probabilities\n",
        "            chosen_log_probs = F.cross_entropy(\n",
        "                chosen_response_logits.view(-1, chosen_response_logits.size(-1)),\n",
        "                chosen_response_labels.view(-1),\n",
        "                reduction='none'\n",
        "            ).view(-1)\n",
        "\n",
        "            rejected_log_probs = F.cross_entropy(\n",
        "                rejected_response_logits.view(-1, rejected_response_logits.size(-1)),\n",
        "                rejected_response_labels.view(-1),\n",
        "                reduction='none'\n",
        "            ).view(-1)\n",
        "\n",
        "            # ORPo loss: maximize log(P(chosen)/P(rejected))\n",
        "            # This is equivalent to minimizing negative log-likelihood difference\n",
        "            chosen_reward = -chosen_log_probs.mean()\n",
        "            rejected_reward = -rejected_log_probs.mean()\n",
        "\n",
        "            # The loss aims to maximize the margin between chosen and rejected\n",
        "            orpo_loss = rejected_reward - chosen_reward\n",
        "            losses.append(orpo_loss)\n",
        "\n",
        "        if not losses:\n",
        "            return torch.tensor(0.0, requires_grad=True, device=device)\n",
        "\n",
        "        return torch.stack(losses).mean()\n",
        "\n",
        "    def train_step(self, prompts, chosen_responses, rejected_responses, optimizer):\n",
        "        optimizer.zero_grad()\n",
        "\n",
        "        # Prepare input data\n",
        "        prompt_tokens, chosen_inputs, rejected_inputs, prompt_lens = self.prepare_batch(\n",
        "            prompts, chosen_responses, rejected_responses\n",
        "        )\n",
        "\n",
        "        # Forward pass for chosen responses\n",
        "        chosen_outputs = self.model(\n",
        "            input_ids=chosen_inputs.input_ids,\n",
        "            attention_mask=chosen_inputs.attention_mask,\n",
        "            return_dict=True\n",
        "        )\n",
        "\n",
        "        # Forward pass for rejected responses\n",
        "        rejected_outputs = self.model(\n",
        "            input_ids=rejected_inputs.input_ids,\n",
        "            attention_mask=rejected_inputs.attention_mask,\n",
        "            return_dict=True\n",
        "        )\n",
        "\n",
        "        # Compute ORPo loss\n",
        "        loss = self.compute_orpo_loss(\n",
        "            chosen_outputs.logits,\n",
        "            rejected_outputs.logits,\n",
        "            chosen_inputs,\n",
        "            rejected_inputs,\n",
        "            prompt_lens\n",
        "        )\n",
        "\n",
        "        # Backward pass\n",
        "        loss.backward()\n",
        "        optimizer.step()\n",
        "\n",
        "        return loss.item()"
      ]
    },
    {
      "cell_type": "code",
      "execution_count": null,
      "metadata": {
        "id": "m2ST6sNqNnZx"
      },
      "outputs": [],
      "source": [
        "# Set up the training parameters\n",
        "batch_size = 8\n",
        "num_epochs = 3\n",
        "learning_rate = 5e-5"
      ]
    },
    {
      "cell_type": "code",
      "execution_count": null,
      "metadata": {
        "id": "qLQbtPWINnXP"
      },
      "outputs": [],
      "source": [
        "# Create the ORPo trainer\n",
        "trainer = ORPoTrainer(model, tokenizer)"
      ]
    },
    {
      "cell_type": "code",
      "execution_count": null,
      "metadata": {
        "id": "8F98-9GFNnUh"
      },
      "outputs": [],
      "source": [
        "# Initialize the optimizer\n",
        "optimizer = torch.optim.AdamW(model.parameters(), lr=learning_rate)"
      ]
    },
    {
      "cell_type": "code",
      "execution_count": null,
      "metadata": {
        "id": "SinLE0VRNs8f"
      },
      "outputs": [],
      "source": [
        "# Training loop\n",
        "def train_orpo(trainer, dataframe, batch_size, num_epochs):\n",
        "    losses = []\n",
        "\n",
        "    for epoch in range(num_epochs):\n",
        "        print(f\"Starting epoch {epoch+1}/{num_epochs}\")\n",
        "        epoch_losses = []\n",
        "\n",
        "        # Create batches\n",
        "        for i in range(0, len(dataframe), batch_size):\n",
        "            batch_df = dataframe.iloc[i:i+batch_size]\n",
        "\n",
        "            prompts = batch_df[\"prompt\"].tolist()\n",
        "            chosen_responses = batch_df[\"chosen\"].tolist()\n",
        "            rejected_responses = batch_df[\"rejected\"].tolist()\n",
        "\n",
        "            # Perform a training step\n",
        "            loss = trainer.train_step(prompts, chosen_responses, rejected_responses, optimizer)\n",
        "            epoch_losses.append(loss)\n",
        "\n",
        "            # Print progress\n",
        "            if (i//batch_size) % 10 == 0:\n",
        "                print(f\"Batch {i//batch_size}, Loss: {loss:.4f}\")\n",
        "\n",
        "        avg_epoch_loss = sum(epoch_losses) / len(epoch_losses)\n",
        "        print(f\"Epoch {epoch+1} completed. Average loss: {avg_epoch_loss:.4f}\")\n",
        "        losses.extend(epoch_losses)\n",
        "\n",
        "    return losses"
      ]
    },
    {
      "cell_type": "code",
      "execution_count": null,
      "metadata": {
        "colab": {
          "base_uri": "https://localhost:8080/",
          "height": 1000
        },
        "id": "vBhEhPcPNs5v",
        "outputId": "11fbb8bc-6047-4681-b8db-edab8885c6bd"
      },
      "outputs": [
        {
          "name": "stdout",
          "output_type": "stream",
          "text": [
            "Starting ORPo training...\n",
            "Starting epoch 1/3\n",
            "Batch 0, Loss: 0.0391\n",
            "Batch 10, Loss: 0.0310\n",
            "Batch 20, Loss: 0.0349\n",
            "Batch 30, Loss: 0.0425\n",
            "Batch 40, Loss: 0.0359\n",
            "Batch 50, Loss: 0.0173\n",
            "Batch 60, Loss: 0.1377\n",
            "Epoch 1 completed. Average loss: 0.1130\n",
            "Starting epoch 2/3\n",
            "Batch 0, Loss: 0.0391\n",
            "Batch 10, Loss: 0.0310\n",
            "Batch 20, Loss: 0.0349\n",
            "Batch 30, Loss: 0.0425\n",
            "Batch 40, Loss: 0.0359\n",
            "Batch 50, Loss: 0.0173\n",
            "Batch 60, Loss: 0.1377\n",
            "Epoch 2 completed. Average loss: 0.1130\n",
            "Starting epoch 3/3\n",
            "Batch 0, Loss: 0.0391\n",
            "Batch 10, Loss: 0.0310\n",
            "Batch 20, Loss: 0.0349\n",
            "Batch 30, Loss: 0.0425\n",
            "Batch 40, Loss: 0.0359\n",
            "Batch 50, Loss: 0.0173\n",
            "Batch 60, Loss: 0.1377\n",
            "Epoch 3 completed. Average loss: 0.1130\n"
          ]
        },
        {
          "data": {
            "image/png": "[encoded data removed]",
            "text/plain": [
              "<Figure size 1000x600 with 1 Axes>"
            ]
          },
          "metadata": {},
          "output_type": "display_data"
        }
      ],
      "source": [
        "# Train the model with ORPo\n",
        "print(\"Starting ORPo training...\")\n",
        "training_losses = train_orpo(trainer, df, batch_size, num_epochs)\n",
        "\n",
        "# Plot the training losses\n",
        "plt.figure(figsize=(10, 6))\n",
        "plt.plot(training_losses)\n",
        "plt.title('ORPo Training Loss')\n",
        "plt.xlabel('Training Steps')\n",
        "plt.ylabel('Loss')\n",
        "plt.grid(True)\n",
        "plt.savefig('orpo_training_loss.png')\n",
        "plt.show()"
      ]
    },
    {
      "cell_type": "code",
      "execution_count": null,
      "metadata": {
        "colab": {
          "base_uri": "https://localhost:8080/"
        },
        "id": "-z6rCSzZNw_G",
        "outputId": "e3a0442f-5d39-4e8e-ca28-d5a59f54d8d3"
      },
      "outputs": [
        {
          "name": "stdout",
          "output_type": "stream",
          "text": [
            "Model saved to orpo_fine_tuned_model\n"
          ]
        }
      ],
      "source": [
        "# Save the fine-tuned model\n",
        "output_dir = \"orpo_fine_tuned_model\"\n",
        "model.save_pretrained(output_dir)\n",
        "tokenizer.save_pretrained(output_dir)\n",
        "print(f\"Model saved to {output_dir}\")"
      ]
    },
    {
      "cell_type": "code",
      "execution_count": null,
      "metadata": {
        "id": "cSHpNljFNw8o"
      },
      "outputs": [],
      "source": [
        "# Function to evaluate the model on test prompts\n",
        "def evaluate_model(model, tokenizer, test_prompts, max_new_tokens=100):\n",
        "    model.eval()\n",
        "    results = []\n",
        "\n",
        "    for prompt in test_prompts:\n",
        "        inputs = tokenizer(prompt, return_tensors=\"pt\").to(device)\n",
        "\n",
        "        with torch.no_grad():\n",
        "            outputs = model.generate(\n",
        "                **inputs,\n",
        "                max_new_tokens=max_new_tokens,\n",
        "                temperature=0.7,\n",
        "                top_p=0.9,\n",
        "                do_sample=True\n",
        "            )\n",
        "\n",
        "        response = tokenizer.decode(outputs[0], skip_special_tokens=True)\n",
        "        # Remove the prompt from the response\n",
        "        response = response[len(prompt):]\n",
        "        results.append({\"prompt\": prompt, \"response\": response})\n",
        "\n",
        "    return results"
      ]
    },
    {
      "cell_type": "code",
      "execution_count": null,
      "metadata": {
        "colab": {
          "base_uri": "https://localhost:8080/"
        },
        "id": "b0WJ0Ic8Nw5s",
        "outputId": "33ad0e40-66d5-4e17-bc5b-02ea7163fae2"
      },
      "outputs": [
        {
          "name": "stderr",
          "output_type": "stream",
          "text": [
            "OPTForCausalLM has no `_prepare_4d_causal_attention_mask_with_cache_position` method defined in its base modeling class. Compiled forward passes will be sub-optimal. If you're writing code, see Llama for an example implementation. If you're a user, please report this issue on GitHub.\n"
          ]
        },
        {
          "name": "stdout",
          "output_type": "stream",
          "text": [
            "Evaluating the fine-tuned model...\n",
            "\n",
            "Model Evaluation Results:\n",
            "\n",
            "Prompt: What are the ethical considerations when implementing AI in financial systems?\n",
            "Response: \n",
            "In the end, but it's a world\n",
            ", in which case?\n",
            "\n",
            ", in which?\n",
            "\n",
            ", in which?\n",
            "\n",
            "\n",
            ", in which?\n",
            ", in which?\n",
            "\n",
            ", in which?\n",
            ", in which?\n",
            "\n",
            ", in which?\n",
            ", in which?\n",
            ", in which?\n",
            ", in which?\n",
            ", in which?\n",
            ", in which?\n",
            ", in which?\n",
            ", in which? in which?\n",
            ", in which?\n",
            "--------------------------------------------------\n",
            "\n",
            "Prompt: Explain the potential benefits and risks of using AI in autonomous vehicles.\n",
            "Response: \n",
            "In the pastelsey\n",
            "\n",
            "A couple years,\n",
            "\n",
            ",\n",
            "\n",
            "\n",
            "a\n",
            "a\n",
            "\n",
            "The\n",
            "\n",
            "\n",
            ",\n",
            "\n",
            "the\n",
            "\n",
            ",\n",
            ",\n",
            "\n",
            ",\n",
            "the\n",
            "\n",
            "the\n",
            "the\n",
            "\n",
            ",\n",
            "\n",
            ",\n",
            "\n",
            "the\n",
            "\n",
            ",\n",
            "\n",
            "a\n",
            "\n",
            ",\n",
            "\n",
            "the\n",
            "\n",
            "the\n",
            "\n",
            ",\n",
            "\n",
            ",\n",
            "\n",
            ",\n",
            "\n",
            ",\n",
            "\n",
            ",\n",
            "\n",
            ",\n",
            "\n",
            ",\n",
            "\n",
            ",\n",
            "\n",
            ",\n",
            "\n",
            "\n",
            "\n",
            "--------------------------------------------------\n",
            "\n",
            "Prompt: How can organizations balance innovation with privacy concerns when developing AI systems?\n",
            "Response: \n",
            "The only way to the guy in my knowledge is that was an actual quote: “...\n",
            "\n",
            "to be a \"good boy is to be a good boy‘noun, I‘t want to be a good boy.\n",
            "\n",
            "‘t want to be, the thing that is to be.\n",
            "\n",
            "an \"the thing that is\" not-a-a-a-trying to be a\n",
            "\n",
            "The only way, the place to be a thing\n",
            "--------------------------------------------------\n"
          ]
        }
      ],
      "source": [
        "# Define some test prompts for evaluation\n",
        "test_prompts = [\n",
        "    \"What are the ethical considerations when implementing AI in financial systems?\",\n",
        "    \"Explain the potential benefits and risks of using AI in autonomous vehicles.\",\n",
        "    \"How can organizations balance innovation with privacy concerns when developing AI systems?\"\n",
        "]\n",
        "\n",
        "# Evaluate the fine-tuned model\n",
        "print(\"Evaluating the fine-tuned model...\")\n",
        "evaluation_results = evaluate_model(model, tokenizer, test_prompts)\n",
        "\n",
        "# Print the evaluation results\n",
        "print(\"\\nModel Evaluation Results:\")\n",
        "for result in evaluation_results:\n",
        "    print(f\"\\nPrompt: {result['prompt']}\")\n",
        "    print(f\"Response: {result['response']}\")\n",
        "    print(\"-\" * 50)"
      ]
    },
    {
      "cell_type": "code",
      "execution_count": null,
      "metadata": {
        "id": "GT-ASgX7N52a"
      },
      "outputs": [],
      "source": [
        "def compare_models(base_model_id, fine_tuned_model_path, tokenizer, test_prompts):\n",
        "    print(\"Loading base model for comparison...\")\n",
        "    # Load the base model\n",
        "    base_model, base_tokenizer = FastLanguageModel.from_pretrained(\n",
        "        model_name=base_model_id,  # Changed 'model_id' to 'model_name'\n",
        "        max_seq_length=max_seq_length,\n",
        "        dtype=torch.bfloat16,\n",
        "    )\n",
        "    base_model.eval()\n",
        "\n",
        "    print(\"Comparing base model vs ORPo fine-tuned model...\")\n",
        "    comparison_results = []\n",
        "\n",
        "    for prompt in test_prompts:\n",
        "        # Generate with base model\n",
        "        base_inputs = base_tokenizer(prompt, return_tensors=\"pt\").to(device)\n",
        "        with torch.no_grad():\n",
        "            base_outputs = base_model.generate(\n",
        "                **base_inputs,\n",
        "                max_new_tokens=100,\n",
        "                temperature=0.7,\n",
        "                do_sample=True\n",
        "            )\n",
        "        base_response = base_tokenizer.decode(base_outputs[0], skip_special_tokens=True)[len(prompt):]\n",
        "\n",
        "        # Generate with fine-tuned model\n",
        "        ft_inputs = tokenizer(prompt, return_tensors=\"pt\").to(device)\n",
        "        with torch.no_grad():\n",
        "            ft_outputs = model.generate(\n",
        "                **ft_inputs,\n",
        "                max_new_tokens=100,\n",
        "                temperature=0.7,\n",
        "                do_sample=True\n",
        "            )\n",
        "        ft_response = tokenizer.decode(ft_outputs[0], skip_special_tokens=True)[len(prompt):]\n",
        "\n",
        "        comparison_results.append({\n",
        "            \"prompt\": prompt,\n",
        "            \"base_model_response\": base_response,\n",
        "            \"orpo_model_response\": ft_response\n",
        "        })\n",
        "\n",
        "    return comparison_results"
      ]
    },
    {
      "cell_type": "code",
      "execution_count": null,
      "metadata": {
        "colab": {
          "base_uri": "https://localhost:8080/"
        },
        "id": "I2oFk_-aN5zw",
        "outputId": "259369c9-cfb6-4c6f-cf6a-27d580ebc199"
      },
      "outputs": [
        {
          "name": "stdout",
          "output_type": "stream",
          "text": [
            "\n",
            "Comparing base model with ORPo fine-tuned model...\n",
            "Loading base model for comparison...\n",
            "==((====))==  Unsloth 2025.3.19: Fast Opt patching. Transformers: 4.51.3.\n",
            "   \\\\   /|    Tesla T4. Num GPUs = 1. Max memory: 14.741 GB. Platform: Linux.\n",
            "O^O/ \\_/ \\    Torch: 2.6.0+cu124. CUDA: 7.5. CUDA Toolkit: 12.4. Triton: 3.2.0\n",
            "\\        /    Bfloat16 = FALSE. FA [Xformers = 0.0.29.post3. FA2 = False]\n",
            " \"-____-\"     Free license: http://github.com/unslothai/unsloth\n",
            "Unsloth: Fast downloading is enabled - ignore downloading bars which are red colored!\n",
            "Comparing base model vs ORPo fine-tuned model...\n"
          ]
        }
      ],
      "source": [
        "# Run model comparison\n",
        "print(\"\\nComparing base model with ORPo fine-tuned model...\")\n",
        "comparison_results = compare_models(model_id, output_dir, tokenizer, test_prompts)"
      ]
    },
    {
      "cell_type": "code",
      "execution_count": null,
      "metadata": {
        "colab": {
          "base_uri": "https://localhost:8080/"
        },
        "id": "jtkSYOH2N5xV",
        "outputId": "4670ed02-6441-44f7-92ef-0851e4904cea"
      },
      "outputs": [
        {
          "name": "stdout",
          "output_type": "stream",
          "text": [
            "\n",
            "Model Comparison Results:\n",
            "\n",
            "Prompt: What are the ethical considerations when implementing AI in financial systems?\n",
            "Base Model Response: \n",
            "Crazy...\n",
            "\n",
            "A look at the future- ????\n",
            "\n",
            "\n",
            "*I'm a\n",
            "\n",
            "\n",
            "\n",
            "\n",
            "A look at the\n",
            "A look at the\n",
            "\n",
            "- a look at the future- to the\n",
            "a\n",
            "\n",
            "a look at the\n",
            "the future.\n",
            "- !!!\n",
            "- ____________ ______________ ____ _____ ____ ____ ____ ____ _____ _____ ____ ____ _____ ____  _______________  \n",
            "ORPo Fine-tuned Response: \n",
            "“A former British and he does not. We are not.  The original picture is the.   *wonderful! I have no idea.\n",
            "That is a good idea.\n",
            "I actually went up against.\n",
            "That is a few weeks ago, so sad, I don't worryingly, I am an entire.   My first- I was actually. ~~weeks and that is very, i'm actually, not.\n",
            "That is a is of\n",
            "--------------------------------------------------\n",
            "\n",
            "Prompt: Explain the potential benefits and risks of using AI in autonomous vehicles.\n",
            "Base Model Response: \n",
            "The more you play'sc'Tis\" is the first time consuming.\n",
            "You are not, I've never been\n",
            ", I've been.\n",
            ", but he's not.\n",
            ", they are both\n",
            "ORPo Fine-tuned Response: \n",
            "At the time,\n",
            "\n",
            "We have a lot of us were talking about a few days ago, the\n",
            "\n",
            "we have a few days ago.\n",
            "\n",
            "We have a few days ago.\n",
            "\n",
            "we have a few days ago, that's about a few weeks ago\n",
            "\n",
            "we have a few weeks ago\n",
            "\n",
            "we have a few days ago had a few days ago.\n",
            "\n",
            "are a few days ago, that i've had, a while back, that's a few days\n",
            "--------------------------------------------------\n",
            "\n",
            "Prompt: How can organizations balance innovation with privacy concerns when developing AI systems?\n",
            "Base Model Response:  A good way? I'm all iShares of the stock option to the people\n",
            "\n",
            "\n",
            "\n",
            "I'm the people\n",
            "My favorite:\n",
            "\n",
            "I'm the\n",
            "I'm the\n",
            "I'm me\n",
            "\n",
            "I'm\n",
            "\n",
            "iStock\n",
            "\n",
            "My favorite\n",
            "\n",
            "Share this with this, I\n",
            "I'm\n",
            "\n",
            "Me\n",
            "\n",
            "my ik\n",
            "\n",
            "My favorite thing to see\n",
            "the\n",
            "\n",
            "Hear,\n",
            "\n",
            "I'm\n",
            "\n",
            "harry\n",
            "\n",
            "I'm\n",
            "\n",
            "\n",
            "ORPo Fine-tuned Response: \n",
            "I've heard that's a bit of the last one...\n",
            "\n",
            "that one\n",
            "that one there\n",
            "thats not as good as well as it sounds\n",
            "I'd be\n",
            "a bit\n",
            "the one\n",
            "it was\n",
            "--------------------------------------------------\n"
          ]
        }
      ],
      "source": [
        "# Print comparison results\n",
        "print(\"\\nModel Comparison Results:\")\n",
        "for result in comparison_results:\n",
        "    print(f\"\\nPrompt: {result['prompt']}\")\n",
        "    print(f\"Base Model Response: {result['base_model_response']}\")\n",
        "    print(f\"ORPo Fine-tuned Response: {result['orpo_model_response']}\")\n",
        "    print(\"-\" * 50)"
      ]
    }
  ],
  "metadata": {
    "accelerator": "GPU",
    "colab": {
      "gpuType": "T4",
      "provenance": []
    },
    "kernelspec": {
      "display_name": "Python 3",
      "name": "python3"
    },
    "language_info": {
      "name": "python"
    }
  },
  "nbformat": 4,
  "nbformat_minor": 0
}